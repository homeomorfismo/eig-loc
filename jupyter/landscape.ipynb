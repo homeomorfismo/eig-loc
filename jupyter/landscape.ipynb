{
 "cells": [
  {
   "cell_type": "markdown",
   "id": "d2ccd496-eb9b-4a40-957a-6080bc2a14ad",
   "metadata": {},
   "source": [
    "# Meshes"
   ]
  },
  {
   "cell_type": "code",
   "execution_count": 1,
   "id": "845c3b11-8f94-4d2e-811e-024f79985036",
   "metadata": {},
   "outputs": [],
   "source": [
    "%matplotlib inline\n",
    "\n",
    "import numpy as np\n",
    "import pandas as pd\n",
    "from ngsolve import *\n",
    "import matplotlib.pyplot as plt\n",
    "import sys\n",
    "import gc\n",
    "\n",
    "sys.path.insert(1, \"/Users/gpin/Repos/EVErrorEst/scripts\")\n",
    "\n",
    "from main_utils import *\n",
    "from adapt_lshape import *\n",
    "from error import *\n",
    "from ngsolve.webgui import Draw\n",
    "from IPython.display import display, HTML"
   ]
  },
  {
   "cell_type": "code",
   "execution_count": 2,
   "id": "dde786ac-221d-41de-9b2d-2360c3d3879e",
   "metadata": {},
   "outputs": [],
   "source": [
    "def reset_mesh():\n",
    "    return Mesh(make_l_shape().GenerateMesh(maxh=0.3))\n",
    "\n",
    "\n",
    "def error_estimator_landscape(gf):\n",
    "    \"\"\"\n",
    "    Compute the landscape error estimator.\n",
    "    \"\"\"\n",
    "    h = specialcf.mesh_size\n",
    "    n = specialcf.normal(gf.space.mesh.dim)\n",
    "    xs = [x, y, z][: gf.space.mesh.dim]\n",
    "\n",
    "    grad_gf = grad(gf)\n",
    "    div_grad_gf = sum((grad_gf[i].Diff(xs[i]) for i in range(gf.space.mesh.dim)))\n",
    "\n",
    "    integrand_1 = -div_grad_gf - 1.0\n",
    "    integrand_2 = (grad_gf - grad_gf.Other()) * n\n",
    "\n",
    "    eta_1 = Integrate(\n",
    "        h**2 * InnerProduct(integrand_1, integrand_1) * dx,\n",
    "        gf.space.mesh,\n",
    "        element_wise=True,\n",
    "    )\n",
    "    eta_2 = Integrate(\n",
    "        0.5 * h * InnerProduct(integrand_2, integrand_2) * dx(element_boundary=True),\n",
    "        gf.space.mesh,\n",
    "        element_wise=True,\n",
    "    )\n",
    "\n",
    "    eta = np.sqrt(eta_1.NumPy().real + eta_2.NumPy().real)\n",
    "    etas = {\n",
    "        \"eta_1\": eta_1.NumPy().real,\n",
    "        \"eta_2\": eta_2.NumPy().real,\n",
    "    }\n",
    "\n",
    "    return eta, etas\n",
    "\n",
    "\n",
    "def error_estimator_ev(gf, ev):\n",
    "    \"\"\"\n",
    "    Compute the landscape error estimator.\n",
    "    \"\"\"\n",
    "    h = specialcf.mesh_size\n",
    "    n = specialcf.normal(gf.space.mesh.dim)\n",
    "    xs = [x, y, z][: gf.space.mesh.dim]\n",
    "\n",
    "    grad_gf = grad(gf)\n",
    "    div_grad_gf = sum((grad_gf[i].Diff(xs[i]) for i in range(gf.space.mesh.dim)))\n",
    "\n",
    "    integrand_1 = -div_grad_gf - ev * gf\n",
    "    integrand_2 = (grad_gf - grad_gf.Other()) * n\n",
    "\n",
    "    eta_1 = Integrate(\n",
    "        h**2 * InnerProduct(integrand_1, integrand_1) * dx,\n",
    "        gf.space.mesh,\n",
    "        element_wise=True,\n",
    "    )\n",
    "    eta_2 = Integrate(\n",
    "        0.5 * h * InnerProduct(integrand_2, integrand_2) * dx(element_boundary=True),\n",
    "        gf.space.mesh,\n",
    "        element_wise=True,\n",
    "    )\n",
    "\n",
    "    eta = np.sqrt(eta_1.NumPy().real + eta_2.NumPy().real)\n",
    "    etas = {\n",
    "        \"eta_1\": eta_1.NumPy().real,\n",
    "        \"eta_2\": eta_2.NumPy().real,\n",
    "    }\n",
    "\n",
    "    return eta, etas"
   ]
  },
  {
   "cell_type": "code",
   "execution_count": 8,
   "id": "a1d61fe9-d8ba-4fe0-b3ab-7240a09df56e",
   "metadata": {},
   "outputs": [],
   "source": [
    "# FES parameters\n",
    "ORDER = 1\n",
    "IS_COMPLEX = True\n",
    "\n",
    "# Adaptivity parameters\n",
    "MAX_ITER = 10\n",
    "MAX_NDOFS = 300_000\n",
    "# THETA = 0.95\n",
    "\n",
    "# FEAST parameters\n",
    "NSPAN = 6\n",
    "CHECKS = False\n",
    "RADIUS = 2.0"
   ]
  },
  {
   "cell_type": "markdown",
   "id": "916f3d9a-57dd-4204-8de6-dd51496671b5",
   "metadata": {},
   "source": [
    "#### High tolerance"
   ]
  },
  {
   "cell_type": "code",
   "execution_count": 9,
   "id": "f89f3b0e-af4f-4d0f-8f9b-9ef4fe0bf51b",
   "metadata": {},
   "outputs": [],
   "source": [
    "mesh = reset_mesh()\n",
    "fes = H1(mesh, order=ORDER, complex=IS_COMPLEX, dirichlet=\"boundary\", autoupdate=True)\n",
    "\n",
    "u, v = fes.TnT()\n",
    "\n",
    "a = BilinearForm(fes)\n",
    "a += grad(u) * grad(v) * dx\n",
    "\n",
    "m = BilinearForm(fes)\n",
    "m += u * v * dx\n",
    "\n",
    "f = LinearForm(fes)\n",
    "f += 1.0 * v * dx\n",
    "\n",
    "assemble(a, m, f)"
   ]
  },
  {
   "cell_type": "code",
   "execution_count": 10,
   "id": "dbb48446-0945-4988-9cf1-4fc3b099fb1b",
   "metadata": {},
   "outputs": [
    {
     "data": {
      "application/vnd.jupyter.widget-view+json": {
       "model_id": "477ce6a10003411a9d9a58105586adea",
       "version_major": 2,
       "version_minor": 0
      },
      "text/plain": [
       "WebGuiWidget(layout=Layout(height='50vh', width='100%'), value={'gui_settings': {}, 'ngsolve_version': '6.2.24…"
      ]
     },
     "metadata": {},
     "output_type": "display_data"
    },
    {
     "data": {
      "application/vnd.jupyter.widget-view+json": {
       "model_id": "5ba3433157394f509f4669b4ef1901f6",
       "version_major": 2,
       "version_minor": 0
      },
      "text/plain": [
       "WebGuiWidget(layout=Layout(height='50vh', width='100%'), value={'gui_settings': {}, 'ngsolve_version': '6.2.24…"
      ]
     },
     "metadata": {},
     "output_type": "display_data"
    },
    {
     "data": {
      "application/vnd.jupyter.widget-view+json": {
       "model_id": "fa0feb37e9e940efa3541b8714cb62cf",
       "version_major": 2,
       "version_minor": 0
      },
      "text/plain": [
       "WebGuiWidget(layout=Layout(height='50vh', width='100%'), value={'gui_settings': {}, 'ngsolve_version': '6.2.24…"
      ]
     },
     "metadata": {},
     "output_type": "display_data"
    },
    {
     "data": {
      "application/vnd.jupyter.widget-view+json": {
       "model_id": "de1cd5f7c69b489896c96c879768a9dd",
       "version_major": 2,
       "version_minor": 0
      },
      "text/plain": [
       "WebGuiWidget(layout=Layout(height='50vh', width='100%'), value={'gui_settings': {}, 'ngsolve_version': '6.2.24…"
      ]
     },
     "metadata": {},
     "output_type": "display_data"
    },
    {
     "data": {
      "application/vnd.jupyter.widget-view+json": {
       "model_id": "63ea222394494e2280ab12a2b67cbeae",
       "version_major": 2,
       "version_minor": 0
      },
      "text/plain": [
       "WebGuiWidget(layout=Layout(height='50vh', width='100%'), value={'gui_settings': {}, 'ngsolve_version': '6.2.24…"
      ]
     },
     "metadata": {},
     "output_type": "display_data"
    },
    {
     "data": {
      "application/vnd.jupyter.widget-view+json": {
       "model_id": "298bdbf8a6ed438c8131cefd54787dc5",
       "version_major": 2,
       "version_minor": 0
      },
      "text/plain": [
       "WebGuiWidget(layout=Layout(height='50vh', width='100%'), value={'gui_settings': {}, 'ngsolve_version': '6.2.24…"
      ]
     },
     "metadata": {},
     "output_type": "display_data"
    },
    {
     "data": {
      "application/vnd.jupyter.widget-view+json": {
       "model_id": "f6d1e7d63d61456883999a659e083144",
       "version_major": 2,
       "version_minor": 0
      },
      "text/plain": [
       "WebGuiWidget(layout=Layout(height='50vh', width='100%'), value={'gui_settings': {}, 'ngsolve_version': '6.2.24…"
      ]
     },
     "metadata": {},
     "output_type": "display_data"
    },
    {
     "data": {
      "application/vnd.jupyter.widget-view+json": {
       "model_id": "9df4562b0a5e4530bb60090b3ae1fa32",
       "version_major": 2,
       "version_minor": 0
      },
      "text/plain": [
       "WebGuiWidget(layout=Layout(height='50vh', width='100%'), value={'gui_settings': {}, 'ngsolve_version': '6.2.24…"
      ]
     },
     "metadata": {},
     "output_type": "display_data"
    },
    {
     "data": {
      "application/vnd.jupyter.widget-view+json": {
       "model_id": "b7ae3eddc3fb4ed6b9483c53aca66305",
       "version_major": 2,
       "version_minor": 0
      },
      "text/plain": [
       "WebGuiWidget(layout=Layout(height='50vh', width='100%'), value={'gui_settings': {}, 'ngsolve_version': '6.2.24…"
      ]
     },
     "metadata": {},
     "output_type": "display_data"
    },
    {
     "data": {
      "application/vnd.jupyter.widget-view+json": {
       "model_id": "443d0d50372942e389d8bffc12bfbfdd",
       "version_major": 2,
       "version_minor": 0
      },
      "text/plain": [
       "WebGuiWidget(layout=Layout(height='50vh', width='100%'), value={'gui_settings': {}, 'ngsolve_version': '6.2.24…"
      ]
     },
     "metadata": {},
     "output_type": "display_data"
    },
    {
     "data": {
      "application/vnd.jupyter.widget-view+json": {
       "model_id": "883a3b97318d48d8946c1a4ea1bf98b9",
       "version_major": 2,
       "version_minor": 0
      },
      "text/plain": [
       "WebGuiWidget(layout=Layout(height='50vh', width='100%'), value={'gui_settings': {}, 'ngsolve_version': '6.2.24…"
      ]
     },
     "metadata": {},
     "output_type": "display_data"
    }
   ],
   "source": [
    "THETA = 0.95\n",
    "\n",
    "iteration = 0\n",
    "ndofs = 0\n",
    "sol = GridFunction(fes, name=\"Landscape\", autoupdate=True)\n",
    "\n",
    "# Main loop\n",
    "Draw(mesh)\n",
    "while iteration < MAX_ITER and ndofs < MAX_NDOFS:\n",
    "    # Update\n",
    "    assemble(a, f)\n",
    "    ndofs = fes.ndof\n",
    "    iteration += 1\n",
    "    # Solve\n",
    "    sol.vec.data = a.mat.Inverse(fes.FreeDofs()) * f.vec\n",
    "    # Estimate\n",
    "    eta, _ = error_estimator_landscape(sol)\n",
    "    # Mark\n",
    "    max_eta = max(eta)\n",
    "    mesh.ngmesh.Elements2D().NumPy()[\"refine\"] = eta > THETA * max_eta\n",
    "    # Refine\n",
    "    mesh.Refine()\n",
    "    Draw(mesh)"
   ]
  },
  {
   "cell_type": "markdown",
   "id": "4727d065-9d88-4463-9d8b-3cdb69a47e8c",
   "metadata": {},
   "source": [
    "#### Low tolerance"
   ]
  },
  {
   "cell_type": "code",
   "execution_count": 11,
   "id": "06b51310-f3f8-4d52-a11d-a95aec5790f6",
   "metadata": {},
   "outputs": [],
   "source": [
    "mesh = reset_mesh()\n",
    "fes = H1(mesh, order=ORDER, complex=IS_COMPLEX, dirichlet=\"boundary\", autoupdate=True)\n",
    "\n",
    "u, v = fes.TnT()\n",
    "\n",
    "a = BilinearForm(fes)\n",
    "a += grad(u) * grad(v) * dx\n",
    "\n",
    "m = BilinearForm(fes)\n",
    "m += u * v * dx\n",
    "\n",
    "f = LinearForm(fes)\n",
    "f += 1.0 * v * dx\n",
    "\n",
    "assemble(a, m, f)"
   ]
  },
  {
   "cell_type": "code",
   "execution_count": 12,
   "id": "f1f78e6d-fbc2-4f40-98d3-bfbc29e66888",
   "metadata": {},
   "outputs": [
    {
     "data": {
      "application/vnd.jupyter.widget-view+json": {
       "model_id": "2808b634b3d647018784f9fdd82576c3",
       "version_major": 2,
       "version_minor": 0
      },
      "text/plain": [
       "WebGuiWidget(layout=Layout(height='50vh', width='100%'), value={'gui_settings': {}, 'ngsolve_version': '6.2.24…"
      ]
     },
     "metadata": {},
     "output_type": "display_data"
    },
    {
     "data": {
      "application/vnd.jupyter.widget-view+json": {
       "model_id": "d38543f0e70e4d5babc4f7d1f5123459",
       "version_major": 2,
       "version_minor": 0
      },
      "text/plain": [
       "WebGuiWidget(layout=Layout(height='50vh', width='100%'), value={'gui_settings': {}, 'ngsolve_version': '6.2.24…"
      ]
     },
     "metadata": {},
     "output_type": "display_data"
    },
    {
     "data": {
      "application/vnd.jupyter.widget-view+json": {
       "model_id": "fb4fa2d1d1b34a9c92b6691fd548e900",
       "version_major": 2,
       "version_minor": 0
      },
      "text/plain": [
       "WebGuiWidget(layout=Layout(height='50vh', width='100%'), value={'gui_settings': {}, 'ngsolve_version': '6.2.24…"
      ]
     },
     "metadata": {},
     "output_type": "display_data"
    },
    {
     "data": {
      "application/vnd.jupyter.widget-view+json": {
       "model_id": "43e867df46f94a3193cbff7fcf217fb4",
       "version_major": 2,
       "version_minor": 0
      },
      "text/plain": [
       "WebGuiWidget(layout=Layout(height='50vh', width='100%'), value={'gui_settings': {}, 'ngsolve_version': '6.2.24…"
      ]
     },
     "metadata": {},
     "output_type": "display_data"
    },
    {
     "data": {
      "application/vnd.jupyter.widget-view+json": {
       "model_id": "35632404de7a4ab79c9ecad3954d9faf",
       "version_major": 2,
       "version_minor": 0
      },
      "text/plain": [
       "WebGuiWidget(layout=Layout(height='50vh', width='100%'), value={'gui_settings': {}, 'ngsolve_version': '6.2.24…"
      ]
     },
     "metadata": {},
     "output_type": "display_data"
    },
    {
     "data": {
      "application/vnd.jupyter.widget-view+json": {
       "model_id": "f5406de0db844553b14bce6f541ce8c8",
       "version_major": 2,
       "version_minor": 0
      },
      "text/plain": [
       "WebGuiWidget(layout=Layout(height='50vh', width='100%'), value={'gui_settings': {}, 'ngsolve_version': '6.2.24…"
      ]
     },
     "metadata": {},
     "output_type": "display_data"
    },
    {
     "data": {
      "application/vnd.jupyter.widget-view+json": {
       "model_id": "fdca6e2fa193496ab20e264df3c09d7e",
       "version_major": 2,
       "version_minor": 0
      },
      "text/plain": [
       "WebGuiWidget(layout=Layout(height='50vh', width='100%'), value={'gui_settings': {}, 'ngsolve_version': '6.2.24…"
      ]
     },
     "metadata": {},
     "output_type": "display_data"
    },
    {
     "data": {
      "application/vnd.jupyter.widget-view+json": {
       "model_id": "5fea2f59ea7640ea8f836e35bdc22b22",
       "version_major": 2,
       "version_minor": 0
      },
      "text/plain": [
       "WebGuiWidget(layout=Layout(height='50vh', width='100%'), value={'gui_settings': {}, 'ngsolve_version': '6.2.24…"
      ]
     },
     "metadata": {},
     "output_type": "display_data"
    },
    {
     "data": {
      "application/vnd.jupyter.widget-view+json": {
       "model_id": "f92fb6ab9d2a419e999ecf84dfbbfabd",
       "version_major": 2,
       "version_minor": 0
      },
      "text/plain": [
       "WebGuiWidget(layout=Layout(height='50vh', width='100%'), value={'gui_settings': {}, 'ngsolve_version': '6.2.24…"
      ]
     },
     "metadata": {},
     "output_type": "display_data"
    },
    {
     "data": {
      "application/vnd.jupyter.widget-view+json": {
       "model_id": "73e32236f57743a089315dfb8dcbeb7f",
       "version_major": 2,
       "version_minor": 0
      },
      "text/plain": [
       "WebGuiWidget(layout=Layout(height='50vh', width='100%'), value={'gui_settings': {}, 'ngsolve_version': '6.2.24…"
      ]
     },
     "metadata": {},
     "output_type": "display_data"
    },
    {
     "data": {
      "application/vnd.jupyter.widget-view+json": {
       "model_id": "0918f43e226b46b4b5790e52a24cd556",
       "version_major": 2,
       "version_minor": 0
      },
      "text/plain": [
       "WebGuiWidget(layout=Layout(height='50vh', width='100%'), value={'gui_settings': {}, 'ngsolve_version': '6.2.24…"
      ]
     },
     "metadata": {},
     "output_type": "display_data"
    }
   ],
   "source": [
    "THETA = 0.5\n",
    "\n",
    "iteration = 0\n",
    "ndofs = 0\n",
    "sol = GridFunction(fes, name=\"Landscape\", autoupdate=True)\n",
    "\n",
    "# Main loop\n",
    "Draw(mesh)\n",
    "while iteration < MAX_ITER and ndofs < MAX_NDOFS:\n",
    "    # Update\n",
    "    assemble(a, f)\n",
    "    ndofs = fes.ndof\n",
    "    iteration += 1\n",
    "    # Solve\n",
    "    sol.vec.data = a.mat.Inverse(fes.FreeDofs()) * f.vec\n",
    "    # Estimate\n",
    "    eta, _ = error_estimator_landscape(sol)\n",
    "    # Mark\n",
    "    max_eta = max(eta)\n",
    "    mesh.ngmesh.Elements2D().NumPy()[\"refine\"] = eta > THETA * max_eta\n",
    "    # Refine\n",
    "    mesh.Refine()\n",
    "    Draw(mesh)"
   ]
  }
 ],
 "metadata": {
  "kernelspec": {
   "display_name": "Python 3 (ipykernel)",
   "language": "python",
   "name": "python3"
  },
  "language_info": {
   "codemirror_mode": {
    "name": "ipython",
    "version": 3
   },
   "file_extension": ".py",
   "mimetype": "text/x-python",
   "name": "python",
   "nbconvert_exporter": "python",
   "pygments_lexer": "ipython3",
   "version": "3.12.3"
  }
 },
 "nbformat": 4,
 "nbformat_minor": 5
}
