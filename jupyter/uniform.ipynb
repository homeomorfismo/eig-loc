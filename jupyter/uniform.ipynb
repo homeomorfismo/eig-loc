{
 "cells": [
  {
   "cell_type": "markdown",
   "id": "caa0190c-5300-41fa-86c8-94682190ee6d",
   "metadata": {},
   "source": [
    "# Meshes"
   ]
  },
  {
   "cell_type": "code",
   "execution_count": 1,
   "id": "0c0be51f-33bd-4156-a595-b363431c0382",
   "metadata": {},
   "outputs": [],
   "source": [
    "%matplotlib inline\n",
    "\n",
    "import numpy as np\n",
    "import pandas as pd\n",
    "from ngsolve import *\n",
    "import matplotlib.pyplot as plt\n",
    "import sys\n",
    "import gc\n",
    "\n",
    "sys.path.insert(1, \"/Users/gpin/Repos/EVErrorEst/scripts\")\n",
    "\n",
    "from main_utils import *\n",
    "from adapt_lshape import *\n",
    "from error import *\n",
    "from ngsolve.webgui import Draw\n",
    "from IPython.display import display, HTML"
   ]
  },
  {
   "cell_type": "code",
   "execution_count": 2,
   "id": "f0d01a45-a54e-403c-808f-645c65eb766f",
   "metadata": {},
   "outputs": [],
   "source": [
    "def reset_mesh():\n",
    "    return Mesh(make_l_shape().GenerateMesh(maxh=0.3))\n",
    "\n",
    "\n",
    "def error_estimator_landscape(gf):\n",
    "    \"\"\"\n",
    "    Compute the landscape error estimator.\n",
    "    \"\"\"\n",
    "    h = specialcf.mesh_size\n",
    "    n = specialcf.normal(gf.space.mesh.dim)\n",
    "    xs = [x, y, z][: gf.space.mesh.dim]\n",
    "\n",
    "    grad_gf = grad(gf)\n",
    "    div_grad_gf = sum((grad_gf[i].Diff(xs[i]) for i in range(gf.space.mesh.dim)))\n",
    "\n",
    "    integrand_1 = -div_grad_gf - 1.0\n",
    "    integrand_2 = (grad_gf - grad_gf.Other()) * n\n",
    "\n",
    "    eta_1 = Integrate(\n",
    "        h**2 * InnerProduct(integrand_1, integrand_1) * dx,\n",
    "        gf.space.mesh,\n",
    "        element_wise=True,\n",
    "    )\n",
    "    eta_2 = Integrate(\n",
    "        0.5 * h * InnerProduct(integrand_2, integrand_2) * dx(element_boundary=True),\n",
    "        gf.space.mesh,\n",
    "        element_wise=True,\n",
    "    )\n",
    "\n",
    "    eta = np.sqrt(eta_1.NumPy().real + eta_2.NumPy().real)\n",
    "    etas = {\n",
    "        \"eta_1\": eta_1.NumPy().real,\n",
    "        \"eta_2\": eta_2.NumPy().real,\n",
    "    }\n",
    "\n",
    "    return eta, etas\n",
    "\n",
    "\n",
    "def error_estimator_ev(gf, ev):\n",
    "    \"\"\"\n",
    "    Compute the landscape error estimator.\n",
    "    \"\"\"\n",
    "    h = specialcf.mesh_size\n",
    "    n = specialcf.normal(gf.space.mesh.dim)\n",
    "    xs = [x, y, z][: gf.space.mesh.dim]\n",
    "\n",
    "    grad_gf = grad(gf)\n",
    "    div_grad_gf = sum((grad_gf[i].Diff(xs[i]) for i in range(gf.space.mesh.dim)))\n",
    "\n",
    "    integrand_1 = -div_grad_gf - ev * gf\n",
    "    integrand_2 = (grad_gf - grad_gf.Other()) * n\n",
    "\n",
    "    eta_1 = Integrate(\n",
    "        h**2 * InnerProduct(integrand_1, integrand_1) * dx,\n",
    "        gf.space.mesh,\n",
    "        element_wise=True,\n",
    "    )\n",
    "    eta_2 = Integrate(\n",
    "        0.5 * h * InnerProduct(integrand_2, integrand_2) * dx(element_boundary=True),\n",
    "        gf.space.mesh,\n",
    "        element_wise=True,\n",
    "    )\n",
    "\n",
    "    eta = np.sqrt(eta_1.NumPy().real + eta_2.NumPy().real)\n",
    "    etas = {\n",
    "        \"eta_1\": eta_1.NumPy().real,\n",
    "        \"eta_2\": eta_2.NumPy().real,\n",
    "    }\n",
    "\n",
    "    return eta, etas"
   ]
  },
  {
   "cell_type": "code",
   "execution_count": 8,
   "id": "04f0c1ae-5a9f-4667-bb4f-508c750cfd4b",
   "metadata": {},
   "outputs": [],
   "source": [
    "# FES parameters\n",
    "ORDER = 1\n",
    "IS_COMPLEX = True\n",
    "\n",
    "# Adaptivity parameters\n",
    "MAX_ITER = 10\n",
    "MAX_NDOFS = 300_000\n",
    "# THETA = 0.95\n",
    "\n",
    "# FEAST parameters\n",
    "NSPAN = 6\n",
    "CHECKS = False\n",
    "RADIUS = 2.0"
   ]
  },
  {
   "cell_type": "markdown",
   "id": "b26c2548-970b-4ee5-9075-d84b85ec37e9",
   "metadata": {},
   "source": [
    "### Uniform"
   ]
  },
  {
   "cell_type": "code",
   "execution_count": 17,
   "id": "41f0cd5f-e24f-4c98-88aa-9a33c73bd14b",
   "metadata": {},
   "outputs": [],
   "source": [
    "mesh = reset_mesh()\n",
    "fes = H1(mesh, order=ORDER, complex=IS_COMPLEX, dirichlet=\"boundary\", autoupdate=True)\n",
    "\n",
    "u, v = fes.TnT()\n",
    "\n",
    "a = BilinearForm(fes)\n",
    "a += grad(u) * grad(v) * dx\n",
    "\n",
    "m = BilinearForm(fes)\n",
    "m += u * v * dx\n",
    "\n",
    "f = LinearForm(fes)\n",
    "f += 1.0 * v * dx\n",
    "\n",
    "assemble(a, m, f)"
   ]
  },
  {
   "cell_type": "code",
   "execution_count": 18,
   "id": "74dff93d-bb5b-4ed9-bff1-7fd52701b7a1",
   "metadata": {
    "scrolled": true
   },
   "outputs": [
    {
     "data": {
      "application/vnd.jupyter.widget-view+json": {
       "model_id": "3722775e34a04686beebaacb3bc94b08",
       "version_major": 2,
       "version_minor": 0
      },
      "text/plain": [
       "WebGuiWidget(layout=Layout(height='50vh', width='100%'), value={'gui_settings': {}, 'ngsolve_version': '6.2.24…"
      ]
     },
     "metadata": {},
     "output_type": "display_data"
    },
    {
     "data": {
      "application/vnd.jupyter.widget-view+json": {
       "model_id": "0d2e85cdc49844849bfffe4987b73af7",
       "version_major": 2,
       "version_minor": 0
      },
      "text/plain": [
       "WebGuiWidget(layout=Layout(height='50vh', width='100%'), value={'gui_settings': {}, 'ngsolve_version': '6.2.24…"
      ]
     },
     "metadata": {},
     "output_type": "display_data"
    },
    {
     "data": {
      "application/vnd.jupyter.widget-view+json": {
       "model_id": "0eec6676832d4b3dabc6fb47cb6429f6",
       "version_major": 2,
       "version_minor": 0
      },
      "text/plain": [
       "WebGuiWidget(layout=Layout(height='50vh', width='100%'), value={'gui_settings': {}, 'ngsolve_version': '6.2.24…"
      ]
     },
     "metadata": {},
     "output_type": "display_data"
    },
    {
     "data": {
      "application/vnd.jupyter.widget-view+json": {
       "model_id": "3c5f54f785f9494e9e641e513062639b",
       "version_major": 2,
       "version_minor": 0
      },
      "text/plain": [
       "WebGuiWidget(layout=Layout(height='50vh', width='100%'), value={'gui_settings': {}, 'ngsolve_version': '6.2.24…"
      ]
     },
     "metadata": {},
     "output_type": "display_data"
    },
    {
     "data": {
      "application/vnd.jupyter.widget-view+json": {
       "model_id": "4e09efc5d5524446b678423efe490c9b",
       "version_major": 2,
       "version_minor": 0
      },
      "text/plain": [
       "WebGuiWidget(layout=Layout(height='50vh', width='100%'), value={'gui_settings': {}, 'ngsolve_version': '6.2.24…"
      ]
     },
     "metadata": {},
     "output_type": "display_data"
    },
    {
     "data": {
      "application/vnd.jupyter.widget-view+json": {
       "model_id": "d7f8e49f30444e5eb18a59bf279ee845",
       "version_major": 2,
       "version_minor": 0
      },
      "text/plain": [
       "WebGuiWidget(layout=Layout(height='50vh', width='100%'), value={'gui_settings': {}, 'ngsolve_version': '6.2.24…"
      ]
     },
     "metadata": {},
     "output_type": "display_data"
    },
    {
     "data": {
      "application/vnd.jupyter.widget-view+json": {
       "model_id": "deb070e01b98401e8a8499994c48f304",
       "version_major": 2,
       "version_minor": 0
      },
      "text/plain": [
       "WebGuiWidget(layout=Layout(height='50vh', width='100%'), value={'gui_settings': {}, 'ngsolve_version': '6.2.24…"
      ]
     },
     "metadata": {},
     "output_type": "display_data"
    },
    {
     "data": {
      "application/vnd.jupyter.widget-view+json": {
       "model_id": "b2d3e561c9b544efa4f7a3eb00e075d3",
       "version_major": 2,
       "version_minor": 0
      },
      "text/plain": [
       "WebGuiWidget(layout=Layout(height='50vh', width='100%'), value={'gui_settings': {}, 'ngsolve_version': '6.2.24…"
      ]
     },
     "metadata": {},
     "output_type": "display_data"
    }
   ],
   "source": [
    "iteration = 0\n",
    "ndofs = 0\n",
    "\n",
    "sol = GridFunction(fes, name=\"Landscape\", autoupdate=True)\n",
    "\n",
    "# Main loop\n",
    "while iteration < MAX_ITER and ndofs < MAX_NDOFS:\n",
    "    # Update\n",
    "    assemble(a, m, f)\n",
    "    ndofs = fes.ndof\n",
    "    iteration += 1\n",
    "    # Solve\n",
    "    sol.vec.data = a.mat.Inverse(fes.FreeDofs()) * f.vec\n",
    "    # Refine\n",
    "    mesh.Refine()\n",
    "    Draw(mesh)"
   ]
  }
 ],
 "metadata": {
  "kernelspec": {
   "display_name": "Python 3 (ipykernel)",
   "language": "python",
   "name": "python3"
  },
  "language_info": {
   "codemirror_mode": {
    "name": "ipython",
    "version": 3
   },
   "file_extension": ".py",
   "mimetype": "text/x-python",
   "name": "python",
   "nbconvert_exporter": "python",
   "pygments_lexer": "ipython3",
   "version": "3.12.3"
  }
 },
 "nbformat": 4,
 "nbformat_minor": 5
}
