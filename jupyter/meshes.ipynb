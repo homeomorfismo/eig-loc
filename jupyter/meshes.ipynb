{
 "cells": [
  {
   "cell_type": "markdown",
   "id": "6ae1f5fa-50a1-4fe8-8e2c-de261fc2c73c",
   "metadata": {},
   "source": [
    "# Meshes"
   ]
  },
  {
   "cell_type": "code",
   "execution_count": 1,
   "id": "787bb209-dbaa-48e2-be9f-add5f622feb4",
   "metadata": {},
   "outputs": [],
   "source": [
    "%matplotlib inline\n",
    "\n",
    "import numpy as np\n",
    "import pandas as pd\n",
    "from ngsolve import *\n",
    "import matplotlib.pyplot as plt\n",
    "import sys\n",
    "import gc\n",
    "\n",
    "sys.path.insert(1, \"/Users/gpin/Repos/EVErrorEst/scripts\")\n",
    "\n",
    "from main_utils import *\n",
    "from adapt_lshape import *\n",
    "from error import *\n",
    "from ngsolve.webgui import Draw\n",
    "from IPython.display import display, HTML"
   ]
  },
  {
   "cell_type": "code",
   "execution_count": 2,
   "id": "2c5dc89c-a252-4ede-a038-f5d8e4ba8f52",
   "metadata": {},
   "outputs": [],
   "source": [
    "def reset_mesh():\n",
    "    return Mesh(make_l_shape().GenerateMesh(maxh=0.3))\n",
    "\n",
    "\n",
    "def error_estimator_landscape(gf):\n",
    "    \"\"\"\n",
    "    Compute the landscape error estimator.\n",
    "    \"\"\"\n",
    "    h = specialcf.mesh_size\n",
    "    n = specialcf.normal(gf.space.mesh.dim)\n",
    "    xs = [x, y, z][: gf.space.mesh.dim]\n",
    "\n",
    "    grad_gf = grad(gf)\n",
    "    div_grad_gf = sum((grad_gf[i].Diff(xs[i]) for i in range(gf.space.mesh.dim)))\n",
    "\n",
    "    integrand_1 = -div_grad_gf - 1.0\n",
    "    integrand_2 = (grad_gf - grad_gf.Other()) * n\n",
    "\n",
    "    eta_1 = Integrate(\n",
    "        h**2 * InnerProduct(integrand_1, integrand_1) * dx,\n",
    "        gf.space.mesh,\n",
    "        element_wise=True,\n",
    "    )\n",
    "    eta_2 = Integrate(\n",
    "        0.5 * h * InnerProduct(integrand_2, integrand_2) * dx(element_boundary=True),\n",
    "        gf.space.mesh,\n",
    "        element_wise=True,\n",
    "    )\n",
    "\n",
    "    eta = np.sqrt(eta_1.NumPy().real + eta_2.NumPy().real)\n",
    "    etas = {\n",
    "        \"eta_1\": eta_1.NumPy().real,\n",
    "        \"eta_2\": eta_2.NumPy().real,\n",
    "    }\n",
    "\n",
    "    return eta, etas\n",
    "\n",
    "\n",
    "def error_estimator_ev(gf, ev):\n",
    "    \"\"\"\n",
    "    Compute the landscape error estimator.\n",
    "    \"\"\"\n",
    "    h = specialcf.mesh_size\n",
    "    n = specialcf.normal(gf.space.mesh.dim)\n",
    "    xs = [x, y, z][: gf.space.mesh.dim]\n",
    "\n",
    "    grad_gf = grad(gf)\n",
    "    div_grad_gf = sum((grad_gf[i].Diff(xs[i]) for i in range(gf.space.mesh.dim)))\n",
    "\n",
    "    integrand_1 = -div_grad_gf - ev * gf\n",
    "    integrand_2 = (grad_gf - grad_gf.Other()) * n\n",
    "\n",
    "    eta_1 = Integrate(\n",
    "        h**2 * InnerProduct(integrand_1, integrand_1) * dx,\n",
    "        gf.space.mesh,\n",
    "        element_wise=True,\n",
    "    )\n",
    "    eta_2 = Integrate(\n",
    "        0.5 * h * InnerProduct(integrand_2, integrand_2) * dx(element_boundary=True),\n",
    "        gf.space.mesh,\n",
    "        element_wise=True,\n",
    "    )\n",
    "\n",
    "    eta = np.sqrt(eta_1.NumPy().real + eta_2.NumPy().real)\n",
    "    etas = {\n",
    "        \"eta_1\": eta_1.NumPy().real,\n",
    "        \"eta_2\": eta_2.NumPy().real,\n",
    "    }\n",
    "\n",
    "    return eta, etas"
   ]
  },
  {
   "cell_type": "markdown",
   "id": "9b1978e3-6909-4ab8-a8b2-81b3a599493a",
   "metadata": {},
   "source": [
    "## Mesh Comparison"
   ]
  },
  {
   "cell_type": "code",
   "execution_count": 3,
   "id": "9be7a35a-72bf-4d8c-a47e-d2775a7173b5",
   "metadata": {},
   "outputs": [],
   "source": [
    "# FES parameters\n",
    "ORDER = 1\n",
    "IS_COMPLEX = True\n",
    "\n",
    "# Adaptivity parameters\n",
    "MAX_ITER = 10\n",
    "MAX_NDOFS = 300_000\n",
    "# THETA = 0.95\n",
    "\n",
    "# FEAST parameters\n",
    "NSPAN = 6\n",
    "CHECKS = False\n",
    "RADIUS = 2.0"
   ]
  },
  {
   "cell_type": "markdown",
   "id": "e3261847-eb90-45c2-a560-0505e3533bfc",
   "metadata": {},
   "source": [
    "### Landscape refinement"
   ]
  },
  {
   "cell_type": "code",
   "execution_count": 4,
   "id": "961cd50f-318c-44d6-a20d-942b9f356eb9",
   "metadata": {},
   "outputs": [],
   "source": [
    "mesh = reset_mesh()\n",
    "fes = H1(mesh, order=ORDER, complex=IS_COMPLEX, dirichlet=\"boundary\", autoupdate=True)\n",
    "\n",
    "u, v = fes.TnT()\n",
    "\n",
    "a = BilinearForm(fes)\n",
    "a += grad(u) * grad(v) * dx\n",
    "\n",
    "m = BilinearForm(fes)\n",
    "m += u * v * dx\n",
    "\n",
    "f = LinearForm(fes)\n",
    "f += 1.0 * v * dx\n",
    "\n",
    "assemble(a, m, f)"
   ]
  },
  {
   "cell_type": "markdown",
   "id": "cc40d26c-4309-42b5-9cec-c949ef97e53d",
   "metadata": {},
   "source": [
    "#### High tolerance"
   ]
  },
  {
   "cell_type": "code",
   "execution_count": 5,
   "id": "2a372eba-43ad-47e8-8f96-349a775cc3fb",
   "metadata": {},
   "outputs": [
    {
     "data": {
      "application/vnd.jupyter.widget-view+json": {
       "model_id": "1fa36a267560419f95f9f0525533ab20",
       "version_major": 2,
       "version_minor": 0
      },
      "text/plain": [
       "WebGuiWidget(layout=Layout(height='50vh', width='100%'), value={'gui_settings': {}, 'ngsolve_version': '6.2.24…"
      ]
     },
     "metadata": {},
     "output_type": "display_data"
    },
    {
     "data": {
      "application/vnd.jupyter.widget-view+json": {
       "model_id": "4af4648ccc2a44609ca0c94f563cea1b",
       "version_major": 2,
       "version_minor": 0
      },
      "text/plain": [
       "WebGuiWidget(layout=Layout(height='50vh', width='100%'), value={'gui_settings': {}, 'ngsolve_version': '6.2.24…"
      ]
     },
     "metadata": {},
     "output_type": "display_data"
    },
    {
     "data": {
      "application/vnd.jupyter.widget-view+json": {
       "model_id": "29dc2e232a8f457b80a76d8dbec93f81",
       "version_major": 2,
       "version_minor": 0
      },
      "text/plain": [
       "WebGuiWidget(layout=Layout(height='50vh', width='100%'), value={'gui_settings': {}, 'ngsolve_version': '6.2.24…"
      ]
     },
     "metadata": {},
     "output_type": "display_data"
    },
    {
     "data": {
      "application/vnd.jupyter.widget-view+json": {
       "model_id": "fad01a7886e74f69a7e56335e6ad35da",
       "version_major": 2,
       "version_minor": 0
      },
      "text/plain": [
       "WebGuiWidget(layout=Layout(height='50vh', width='100%'), value={'gui_settings': {}, 'ngsolve_version': '6.2.24…"
      ]
     },
     "metadata": {},
     "output_type": "display_data"
    },
    {
     "data": {
      "application/vnd.jupyter.widget-view+json": {
       "model_id": "d8ade0c7265c42c2916b3b28fcc723a9",
       "version_major": 2,
       "version_minor": 0
      },
      "text/plain": [
       "WebGuiWidget(layout=Layout(height='50vh', width='100%'), value={'gui_settings': {}, 'ngsolve_version': '6.2.24…"
      ]
     },
     "metadata": {},
     "output_type": "display_data"
    },
    {
     "data": {
      "application/vnd.jupyter.widget-view+json": {
       "model_id": "816e3cc61df14f15ac35329ed74451b4",
       "version_major": 2,
       "version_minor": 0
      },
      "text/plain": [
       "WebGuiWidget(layout=Layout(height='50vh', width='100%'), value={'gui_settings': {}, 'ngsolve_version': '6.2.24…"
      ]
     },
     "metadata": {},
     "output_type": "display_data"
    },
    {
     "data": {
      "application/vnd.jupyter.widget-view+json": {
       "model_id": "a61adb4def3c4bf8a4c474882f345484",
       "version_major": 2,
       "version_minor": 0
      },
      "text/plain": [
       "WebGuiWidget(layout=Layout(height='50vh', width='100%'), value={'gui_settings': {}, 'ngsolve_version': '6.2.24…"
      ]
     },
     "metadata": {},
     "output_type": "display_data"
    },
    {
     "data": {
      "application/vnd.jupyter.widget-view+json": {
       "model_id": "9f3fdf9ce954476b96964288c4caacae",
       "version_major": 2,
       "version_minor": 0
      },
      "text/plain": [
       "WebGuiWidget(layout=Layout(height='50vh', width='100%'), value={'gui_settings': {}, 'ngsolve_version': '6.2.24…"
      ]
     },
     "metadata": {},
     "output_type": "display_data"
    },
    {
     "data": {
      "application/vnd.jupyter.widget-view+json": {
       "model_id": "a0bd573631454580aa8ed963c289aa87",
       "version_major": 2,
       "version_minor": 0
      },
      "text/plain": [
       "WebGuiWidget(layout=Layout(height='50vh', width='100%'), value={'gui_settings': {}, 'ngsolve_version': '6.2.24…"
      ]
     },
     "metadata": {},
     "output_type": "display_data"
    },
    {
     "data": {
      "application/vnd.jupyter.widget-view+json": {
       "model_id": "b6f0d258989f4f0985769ac0954dbbc2",
       "version_major": 2,
       "version_minor": 0
      },
      "text/plain": [
       "WebGuiWidget(layout=Layout(height='50vh', width='100%'), value={'gui_settings': {}, 'ngsolve_version': '6.2.24…"
      ]
     },
     "metadata": {},
     "output_type": "display_data"
    },
    {
     "data": {
      "application/vnd.jupyter.widget-view+json": {
       "model_id": "e1537593bb6743939948956fd47ad0a1",
       "version_major": 2,
       "version_minor": 0
      },
      "text/plain": [
       "WebGuiWidget(layout=Layout(height='50vh', width='100%'), value={'gui_settings': {}, 'ngsolve_version': '6.2.24…"
      ]
     },
     "metadata": {},
     "output_type": "display_data"
    }
   ],
   "source": [
    "THETA = 0.95\n",
    "\n",
    "iteration = 0\n",
    "ndofs = 0\n",
    "sol = GridFunction(fes, name=\"Landscape\", autoupdate=True)\n",
    "\n",
    "# Main loop\n",
    "Draw(mesh)\n",
    "while iteration < MAX_ITER and ndofs < MAX_NDOFS:\n",
    "    # Update\n",
    "    assemble(a, f)\n",
    "    ndofs = fes.ndof\n",
    "    iteration += 1\n",
    "    # Solve\n",
    "    sol.vec.data = a.mat.Inverse(fes.FreeDofs()) * f.vec\n",
    "    # Estimate\n",
    "    eta, _ = error_estimator_landscape(sol)\n",
    "    # Mark\n",
    "    max_eta = max(eta)\n",
    "    mesh.ngmesh.Elements2D().NumPy()[\"refine\"] = eta > THETA * max_eta\n",
    "    # Refine\n",
    "    mesh.Refine()\n",
    "    Draw(mesh)"
   ]
  },
  {
   "cell_type": "markdown",
   "id": "5233eb9f-0cca-4fd3-81d4-68a1f604df80",
   "metadata": {},
   "source": [
    "#### Low tolerance"
   ]
  },
  {
   "cell_type": "code",
   "execution_count": 6,
   "id": "3d56c9ad-833e-40f9-9f8b-83d4b1f922d4",
   "metadata": {},
   "outputs": [],
   "source": [
    "mesh = reset_mesh()\n",
    "fes = H1(mesh, order=ORDER, complex=IS_COMPLEX, dirichlet=\"boundary\", autoupdate=True)\n",
    "\n",
    "u, v = fes.TnT()\n",
    "\n",
    "a = BilinearForm(fes)\n",
    "a += grad(u) * grad(v) * dx\n",
    "\n",
    "m = BilinearForm(fes)\n",
    "m += u * v * dx\n",
    "\n",
    "f = LinearForm(fes)\n",
    "f += 1.0 * v * dx\n",
    "\n",
    "assemble(a, m, f)"
   ]
  },
  {
   "cell_type": "code",
   "execution_count": 7,
   "id": "c57c2015-f93e-4164-8be3-18771a9e294d",
   "metadata": {},
   "outputs": [
    {
     "data": {
      "application/vnd.jupyter.widget-view+json": {
       "model_id": "64aafe5215ba40748f4a1a58c2755456",
       "version_major": 2,
       "version_minor": 0
      },
      "text/plain": [
       "WebGuiWidget(layout=Layout(height='50vh', width='100%'), value={'gui_settings': {}, 'ngsolve_version': '6.2.24…"
      ]
     },
     "metadata": {},
     "output_type": "display_data"
    },
    {
     "data": {
      "application/vnd.jupyter.widget-view+json": {
       "model_id": "1836c9b939c54852b465399847eb2cc0",
       "version_major": 2,
       "version_minor": 0
      },
      "text/plain": [
       "WebGuiWidget(layout=Layout(height='50vh', width='100%'), value={'gui_settings': {}, 'ngsolve_version': '6.2.24…"
      ]
     },
     "metadata": {},
     "output_type": "display_data"
    },
    {
     "data": {
      "application/vnd.jupyter.widget-view+json": {
       "model_id": "d53cacf8cbfc4846921706b862d9d7df",
       "version_major": 2,
       "version_minor": 0
      },
      "text/plain": [
       "WebGuiWidget(layout=Layout(height='50vh', width='100%'), value={'gui_settings': {}, 'ngsolve_version': '6.2.24…"
      ]
     },
     "metadata": {},
     "output_type": "display_data"
    },
    {
     "data": {
      "application/vnd.jupyter.widget-view+json": {
       "model_id": "2d44c3ac5cc04e089a33b446d33abbc3",
       "version_major": 2,
       "version_minor": 0
      },
      "text/plain": [
       "WebGuiWidget(layout=Layout(height='50vh', width='100%'), value={'gui_settings': {}, 'ngsolve_version': '6.2.24…"
      ]
     },
     "metadata": {},
     "output_type": "display_data"
    },
    {
     "data": {
      "application/vnd.jupyter.widget-view+json": {
       "model_id": "59bfea34655949418dcb72ac3a4e76e2",
       "version_major": 2,
       "version_minor": 0
      },
      "text/plain": [
       "WebGuiWidget(layout=Layout(height='50vh', width='100%'), value={'gui_settings': {}, 'ngsolve_version': '6.2.24…"
      ]
     },
     "metadata": {},
     "output_type": "display_data"
    },
    {
     "data": {
      "application/vnd.jupyter.widget-view+json": {
       "model_id": "e0b87b6c4d1641bf88fbfc40ba32f5c3",
       "version_major": 2,
       "version_minor": 0
      },
      "text/plain": [
       "WebGuiWidget(layout=Layout(height='50vh', width='100%'), value={'gui_settings': {}, 'ngsolve_version': '6.2.24…"
      ]
     },
     "metadata": {},
     "output_type": "display_data"
    },
    {
     "data": {
      "application/vnd.jupyter.widget-view+json": {
       "model_id": "532b5966308d4649a3997847e8c9e663",
       "version_major": 2,
       "version_minor": 0
      },
      "text/plain": [
       "WebGuiWidget(layout=Layout(height='50vh', width='100%'), value={'gui_settings': {}, 'ngsolve_version': '6.2.24…"
      ]
     },
     "metadata": {},
     "output_type": "display_data"
    },
    {
     "data": {
      "application/vnd.jupyter.widget-view+json": {
       "model_id": "3a50c19c06dc4f65a883feca71f9134f",
       "version_major": 2,
       "version_minor": 0
      },
      "text/plain": [
       "WebGuiWidget(layout=Layout(height='50vh', width='100%'), value={'gui_settings': {}, 'ngsolve_version': '6.2.24…"
      ]
     },
     "metadata": {},
     "output_type": "display_data"
    },
    {
     "data": {
      "application/vnd.jupyter.widget-view+json": {
       "model_id": "31ab5a4d31304b91a3df7a4d98fd0d90",
       "version_major": 2,
       "version_minor": 0
      },
      "text/plain": [
       "WebGuiWidget(layout=Layout(height='50vh', width='100%'), value={'gui_settings': {}, 'ngsolve_version': '6.2.24…"
      ]
     },
     "metadata": {},
     "output_type": "display_data"
    },
    {
     "data": {
      "application/vnd.jupyter.widget-view+json": {
       "model_id": "750834316ee64daeae038d8ebc012add",
       "version_major": 2,
       "version_minor": 0
      },
      "text/plain": [
       "WebGuiWidget(layout=Layout(height='50vh', width='100%'), value={'gui_settings': {}, 'ngsolve_version': '6.2.24…"
      ]
     },
     "metadata": {},
     "output_type": "display_data"
    },
    {
     "data": {
      "application/vnd.jupyter.widget-view+json": {
       "model_id": "e3de5791ad3e447ab520a1c3f2eebaf7",
       "version_major": 2,
       "version_minor": 0
      },
      "text/plain": [
       "WebGuiWidget(layout=Layout(height='50vh', width='100%'), value={'gui_settings': {}, 'ngsolve_version': '6.2.24…"
      ]
     },
     "metadata": {},
     "output_type": "display_data"
    }
   ],
   "source": [
    "THETA = 0.5\n",
    "\n",
    "iteration = 0\n",
    "ndofs = 0\n",
    "sol = GridFunction(fes, name=\"Landscape\", autoupdate=True)\n",
    "\n",
    "# Main loop\n",
    "Draw(mesh)\n",
    "while iteration < MAX_ITER and ndofs < MAX_NDOFS:\n",
    "    # Update\n",
    "    assemble(a, f)\n",
    "    ndofs = fes.ndof\n",
    "    iteration += 1\n",
    "    # Solve\n",
    "    sol.vec.data = a.mat.Inverse(fes.FreeDofs()) * f.vec\n",
    "    # Estimate\n",
    "    eta, _ = error_estimator_landscape(sol)\n",
    "    # Mark\n",
    "    max_eta = max(eta)\n",
    "    mesh.ngmesh.Elements2D().NumPy()[\"refine\"] = eta > THETA * max_eta\n",
    "    # Refine\n",
    "    mesh.Refine()\n",
    "    Draw(mesh)"
   ]
  },
  {
   "cell_type": "markdown",
   "id": "48a5407d-0dee-4f9c-a8d6-2c0c164eae0f",
   "metadata": {},
   "source": [
    "### Eigenvector-driven refinement"
   ]
  },
  {
   "cell_type": "markdown",
   "id": "7a91b3e1-78c8-44df-9f81-291186b8455e",
   "metadata": {},
   "source": [
    "#### Low tolerance"
   ]
  },
  {
   "cell_type": "code",
   "execution_count": 8,
   "id": "c60b4763-dccf-4012-a7c6-2bfb5d47245f",
   "metadata": {},
   "outputs": [],
   "source": [
    "REF_EV = 50 * np.pi**2\n",
    "\n",
    "feast_parameters = {\n",
    "    \"hermitian\": False,\n",
    "    \"stop_tol\": 1.0e-10,\n",
    "    \"cut_tol\": 1.0e-10,\n",
    "    \"eta_tol\": 1e-10,\n",
    "    \"nrestarts\": 5,\n",
    "    \"niterations\": 100,\n",
    "}\n",
    "\n",
    "mesh = reset_mesh()\n",
    "fes = H1(mesh, order=ORDER, complex=IS_COMPLEX, dirichlet=\"boundary\", autoupdate=True)\n",
    "\n",
    "u, v = fes.TnT()\n",
    "\n",
    "a = BilinearForm(fes)\n",
    "a += grad(u) * grad(v) * dx\n",
    "\n",
    "m = BilinearForm(fes)\n",
    "m += u * v * dx\n",
    "\n",
    "f = LinearForm(fes)\n",
    "f += 1.0 * v * dx\n",
    "\n",
    "assemble(a, m, f)"
   ]
  },
  {
   "cell_type": "code",
   "execution_count": 9,
   "id": "4d62aa0a-8ae8-478a-84c3-9ee0d0d0d62a",
   "metadata": {},
   "outputs": [
    {
     "name": "stdout",
     "output_type": "stream",
     "text": [
      "   QR found abs(diag(R)):\n",
      "   [3.5e+00 3.5e+00 3.0e+00 2.1e+00 2.2e+00 1.7e+00 1.3e+00 2.4e+00 1.9e+00\n",
      " 9.1e-01 8.9e-01 7.4e-01 1.4e+00 1.7e+00 1.9e+00 1.1e+00 1.2e+00 5.7e-01\n",
      " 7.3e-01 1.3e+00 2.9e-01 7.5e-22 1.2e-21 4.9e-22]\n",
      "   Removing 3 vector(s).\n",
      "   QR found abs(diag(R)):\n",
      "   [1.2e+01 1.1e+01 1.2e+01 7.7e+00 6.0e+00 8.0e+00 5.5e+00 6.0e+00 4.4e+00\n",
      " 3.3e+00 2.4e+00 1.7e+00 3.3e+00 3.2e+00 4.1e+00 1.8e+00 1.9e+00 1.9e+00\n",
      " 2.0e+00 1.9e+00 8.4e-01 2.6e-21 2.7e-21 8.4e-22]\n",
      "   Removing 3 vector(s).\n"
     ]
    },
    {
     "data": {
      "application/vnd.jupyter.widget-view+json": {
       "model_id": "fda45d9d605642b0a0075af57661957d",
       "version_major": 2,
       "version_minor": 0
      },
      "text/plain": [
       "WebGuiWidget(layout=Layout(height='50vh', width='100%'), value={'gui_settings': {}, 'ngsolve_version': '6.2.24…"
      ]
     },
     "metadata": {},
     "output_type": "display_data"
    },
    {
     "data": {
      "application/vnd.jupyter.widget-view+json": {
       "model_id": "a4e8c7860d2648b0812892b835e8dfe8",
       "version_major": 2,
       "version_minor": 0
      },
      "text/plain": [
       "WebGuiWidget(layout=Layout(height='50vh', width='100%'), value={'gui_settings': {}, 'ngsolve_version': '6.2.24…"
      ]
     },
     "metadata": {},
     "output_type": "display_data"
    },
    {
     "data": {
      "application/vnd.jupyter.widget-view+json": {
       "model_id": "f0bf92e440f240d882d152849713c8df",
       "version_major": 2,
       "version_minor": 0
      },
      "text/plain": [
       "WebGuiWidget(layout=Layout(height='50vh', width='100%'), value={'gui_settings': {}, 'ngsolve_version': '6.2.24…"
      ]
     },
     "metadata": {},
     "output_type": "display_data"
    },
    {
     "data": {
      "application/vnd.jupyter.widget-view+json": {
       "model_id": "f103754522344d02a1f686f77a671480",
       "version_major": 2,
       "version_minor": 0
      },
      "text/plain": [
       "WebGuiWidget(layout=Layout(height='50vh', width='100%'), value={'gui_settings': {}, 'ngsolve_version': '6.2.24…"
      ]
     },
     "metadata": {},
     "output_type": "display_data"
    },
    {
     "data": {
      "application/vnd.jupyter.widget-view+json": {
       "model_id": "fd15416a23414f509a6cdd5f8f9947f6",
       "version_major": 2,
       "version_minor": 0
      },
      "text/plain": [
       "WebGuiWidget(layout=Layout(height='50vh', width='100%'), value={'gui_settings': {}, 'ngsolve_version': '6.2.24…"
      ]
     },
     "metadata": {},
     "output_type": "display_data"
    },
    {
     "data": {
      "application/vnd.jupyter.widget-view+json": {
       "model_id": "4c278973916c47c39a130ff3d1cdb881",
       "version_major": 2,
       "version_minor": 0
      },
      "text/plain": [
       "WebGuiWidget(layout=Layout(height='50vh', width='100%'), value={'gui_settings': {}, 'ngsolve_version': '6.2.24…"
      ]
     },
     "metadata": {},
     "output_type": "display_data"
    },
    {
     "data": {
      "application/vnd.jupyter.widget-view+json": {
       "model_id": "a530a0ed06904e188c4dd739e6e3619c",
       "version_major": 2,
       "version_minor": 0
      },
      "text/plain": [
       "WebGuiWidget(layout=Layout(height='50vh', width='100%'), value={'gui_settings': {}, 'ngsolve_version': '6.2.24…"
      ]
     },
     "metadata": {},
     "output_type": "display_data"
    },
    {
     "data": {
      "application/vnd.jupyter.widget-view+json": {
       "model_id": "2aa5bb0d53d1419b9f1a68bbe53b2ddf",
       "version_major": 2,
       "version_minor": 0
      },
      "text/plain": [
       "WebGuiWidget(layout=Layout(height='50vh', width='100%'), value={'gui_settings': {}, 'ngsolve_version': '6.2.24…"
      ]
     },
     "metadata": {},
     "output_type": "display_data"
    },
    {
     "data": {
      "application/vnd.jupyter.widget-view+json": {
       "model_id": "61ff7387a5054917b5c353610ce3fab3",
       "version_major": 2,
       "version_minor": 0
      },
      "text/plain": [
       "WebGuiWidget(layout=Layout(height='50vh', width='100%'), value={'gui_settings': {}, 'ngsolve_version': '6.2.24…"
      ]
     },
     "metadata": {},
     "output_type": "display_data"
    },
    {
     "data": {
      "application/vnd.jupyter.widget-view+json": {
       "model_id": "ef3353571870405aa089bb59266c2702",
       "version_major": 2,
       "version_minor": 0
      },
      "text/plain": [
       "WebGuiWidget(layout=Layout(height='50vh', width='100%'), value={'gui_settings': {}, 'ngsolve_version': '6.2.24…"
      ]
     },
     "metadata": {},
     "output_type": "display_data"
    }
   ],
   "source": [
    "THETA = 0.5\n",
    "\n",
    "iteration = 0\n",
    "ndofs = 0\n",
    "center = REF_EV\n",
    "\n",
    "sol = GridFunction(fes, name=\"Landscape\", autoupdate=True)\n",
    "\n",
    "# Main loop\n",
    "while iteration < MAX_ITER and ndofs < MAX_NDOFS:\n",
    "    # Update\n",
    "    assemble(a, m, f)\n",
    "    ndofs = fes.ndof\n",
    "    iteration += 1\n",
    "    # Solve\n",
    "    sol.vec.data = a.mat.Inverse(fes.FreeDofs()) * f.vec\n",
    "    # --- Init  call FEAST ---\n",
    "    # Set clean eigenspace (required for adaptivity)\n",
    "    right = NGvecs(fes, NSPAN)\n",
    "    right.setrandom()\n",
    "    left = NGvecs(fes, NSPAN)\n",
    "    left.setrandom()\n",
    "    # Set spectral projector\n",
    "    projector = SpectralProjNG(\n",
    "        fes,\n",
    "        a.mat,\n",
    "        m.mat,\n",
    "        checks=CHECKS,\n",
    "        radius=RADIUS,\n",
    "        center=center,\n",
    "        npts=NPTS,\n",
    "        verbose=False,\n",
    "    )\n",
    "    # Call FEAST\n",
    "    evalues, right, history, left = projector.feast(right, Yl=left, **feast_parameters)\n",
    "    assert history[-1], \"FEAST did not converge\"\n",
    "    # --- End  call  FEAST ---\n",
    "    # Estimate\n",
    "    etas = []\n",
    "    for i in range(right.m):\n",
    "        eta, _ = error_estimator_ev(right.gridfun(i=i), evalues[i])\n",
    "        etas.append(eta)\n",
    "    etas = np.stack(etas, axis=0)\n",
    "    eta = np.max(etas, axis=0)\n",
    "    # Mark\n",
    "    max_eta = max(eta)\n",
    "    mesh.ngmesh.Elements2D().NumPy()[\"refine\"] = eta > THETA * max_eta\n",
    "    # Refine\n",
    "    mesh.Refine()\n",
    "    Draw(mesh)\n",
    "    # Clean up\n",
    "    del right, left, projector, history\n",
    "    gc.collect()"
   ]
  },
  {
   "cell_type": "markdown",
   "id": "dde26817-b521-484a-b97b-d69244f160e1",
   "metadata": {},
   "source": [
    "#### High tolerance"
   ]
  },
  {
   "cell_type": "code",
   "execution_count": 10,
   "id": "5ed7f111-f325-4161-a2a2-aff798ed10b6",
   "metadata": {},
   "outputs": [],
   "source": [
    "REF_EV = 50 * np.pi**2\n",
    "\n",
    "feast_parameters = {\n",
    "    \"hermitian\": False,\n",
    "    \"stop_tol\": 1.0e-10,\n",
    "    \"cut_tol\": 1.0e-10,\n",
    "    \"eta_tol\": 1e-10,\n",
    "    \"nrestarts\": 5,\n",
    "    \"niterations\": 100,\n",
    "}\n",
    "\n",
    "mesh = reset_mesh()\n",
    "fes = H1(mesh, order=ORDER, complex=IS_COMPLEX, dirichlet=\"boundary\", autoupdate=True)\n",
    "\n",
    "u, v = fes.TnT()\n",
    "\n",
    "a = BilinearForm(fes)\n",
    "a += grad(u) * grad(v) * dx\n",
    "\n",
    "m = BilinearForm(fes)\n",
    "m += u * v * dx\n",
    "\n",
    "f = LinearForm(fes)\n",
    "f += 1.0 * v * dx\n",
    "\n",
    "assemble(a, m, f)"
   ]
  },
  {
   "cell_type": "code",
   "execution_count": 11,
   "id": "5361e629-1495-4a02-838d-7ea06d52ba2c",
   "metadata": {
    "scrolled": true
   },
   "outputs": [
    {
     "name": "stdout",
     "output_type": "stream",
     "text": [
      "   QR found abs(diag(R)):\n",
      "   [1.0e+01 8.1e+00 6.1e+00 4.0e+00 3.5e+00 4.3e+00 4.4e+00 3.8e+00 3.2e+00\n",
      " 2.6e+00 3.3e+00 2.0e+00 3.0e+00 2.7e+00 2.3e+00 2.4e+00 1.7e+00 1.4e+00\n",
      " 2.2e+00 1.6e+00 2.0e+00 8.4e-22 7.1e-22 1.0e-21]\n",
      "   Removing 3 vector(s).\n",
      "   QR found abs(diag(R)):\n",
      "   [4.2e+00 5.2e+00 6.3e+00 4.8e+00 5.1e+00 3.6e+00 4.0e+00 4.0e+00 3.8e+00\n",
      " 3.2e+00 2.9e+00 1.8e+00 2.4e+00 3.1e+00 2.2e+00 2.2e+00 2.8e+00 1.7e+00\n",
      " 2.1e+00 1.7e+00 1.3e+00 9.1e-22 1.5e-21 5.3e-22]\n",
      "   Removing 3 vector(s).\n"
     ]
    },
    {
     "data": {
      "application/vnd.jupyter.widget-view+json": {
       "model_id": "80be9f46b7844f1aacc8e05ddebfed89",
       "version_major": 2,
       "version_minor": 0
      },
      "text/plain": [
       "WebGuiWidget(layout=Layout(height='50vh', width='100%'), value={'gui_settings': {}, 'ngsolve_version': '6.2.24…"
      ]
     },
     "metadata": {},
     "output_type": "display_data"
    },
    {
     "name": "stdout",
     "output_type": "stream",
     "text": [
      "   QR found abs(diag(R)):\n",
      "   [1.4e+00 5.4e+02 5.2e+00 1.3e+00 1.6e+00 7.8e-01 5.0e-01 4.1e-01 1.8e-01\n",
      " 6.3e-01 9.9e-02 1.4e-01 3.5e-02 1.7e-01 2.2e-01 2.8e-01 1.4e-01 1.7e-01\n",
      " 1.8e-01 1.9e-01 1.3e-01 1.7e-01 2.2e-01 1.3e-01 1.5e-01 2.0e-01 3.6e-02\n",
      " 2.2e-17 4.5e-17 9.2e-17 5.9e-17 2.4e-15 2.0e-16 1.4e-16 1.1e-16 2.6e-16\n",
      " 6.6e-17 2.7e-17 2.3e-16 1.3e-16 4.1e-17 1.1e-16 1.3e-16 1.5e-16 7.4e-17\n",
      " 1.2e-16 2.0e-16 6.4e-17]\n",
      "   Removing 21 vector(s).\n",
      "   QR found abs(diag(R)):\n",
      "   [6.5e+01 2.1e-01 1.3e+01 2.0e+01 9.4e+00 1.3e+01 6.8e+00 9.4e+00 7.0e+00\n",
      " 2.4e+01 1.4e+01 1.1e+01 7.1e+00 9.1e+00 1.5e+01 3.0e+01 8.9e+00 1.8e+01\n",
      " 2.2e+01 2.0e+01 1.0e+01 4.8e+00 1.7e+01 4.7e+00 1.6e+00 5.9e+00 1.6e-04\n",
      " 5.7e-16 1.2e-16 5.2e-16 1.8e-16 4.5e-15 3.8e-16 3.4e-16 3.2e-16 1.2e-16\n",
      " 2.5e-16 9.8e-17 1.9e-16 1.1e-16 2.2e-16 2.4e-16 2.6e-16 2.5e-16 3.2e-16\n",
      " 1.7e-16 1.1e-16 1.4e-16]\n",
      "   Removing 21 vector(s).\n"
     ]
    },
    {
     "data": {
      "application/vnd.jupyter.widget-view+json": {
       "model_id": "0b23a0e6fd764dc38d907ca3e5d2a73e",
       "version_major": 2,
       "version_minor": 0
      },
      "text/plain": [
       "WebGuiWidget(layout=Layout(height='50vh', width='100%'), value={'gui_settings': {}, 'ngsolve_version': '6.2.24…"
      ]
     },
     "metadata": {},
     "output_type": "display_data"
    },
    {
     "data": {
      "application/vnd.jupyter.widget-view+json": {
       "model_id": "1a576aa5fd414e1aa0ae3371b785539a",
       "version_major": 2,
       "version_minor": 0
      },
      "text/plain": [
       "WebGuiWidget(layout=Layout(height='50vh', width='100%'), value={'gui_settings': {}, 'ngsolve_version': '6.2.24…"
      ]
     },
     "metadata": {},
     "output_type": "display_data"
    },
    {
     "name": "stdout",
     "output_type": "stream",
     "text": [
      "   QR found abs(diag(R)):\n",
      "   [1.2e+01 1.4e+01 1.5e+01 1.4e+01 1.9e+01 1.0e+01 1.2e+01 9.9e+00 1.2e+01\n",
      " 8.9e+00 7.3e+00 8.1e+00 1.6e+01 6.2e+00 5.6e+00 4.2e+00 5.8e+00 2.0e+00\n",
      " 5.3e+00 4.3e+00 5.5e+00 1.9e+00 3.5e+00 5.3e+00 4.1e+00 2.2e+00 3.3e+00\n",
      " 3.9e+00 2.2e+00 2.1e+00 2.7e+00 3.3e+00 2.8e+00 5.6e-01 3.0e+00 2.0e+00\n",
      " 2.1e+00 1.7e+00 6.6e-01 1.5e+00 2.2e-14 6.1e-15 5.1e-15 4.8e-15 4.6e-15\n",
      " 5.0e-15 4.3e-15 1.1e-14]\n",
      "   Removing 8 vector(s).\n",
      "   QR found abs(diag(R)):\n",
      "   [8.2e+00 8.5e+00 6.3e+00 7.6e+00 5.5e+00 9.2e+00 1.1e+01 8.5e+00 1.6e+01\n",
      " 7.1e+00 6.3e+00 5.9e+00 1.3e+01 5.8e+00 5.1e+00 4.7e+00 5.0e+00 2.2e+00\n",
      " 4.5e+00 3.5e+00 3.9e+00 1.8e+00 1.9e+00 3.8e+00 4.6e+00 2.3e+00 2.5e+00\n",
      " 2.7e+00 2.1e+00 2.1e+00 3.5e+00 2.4e+00 1.7e+00 7.7e-01 3.2e+00 2.1e+00\n",
      " 1.8e+00 3.1e+00 1.1e+00 1.2e+00 7.2e-15 5.9e-15 4.0e-15 2.3e-15 2.9e-15\n",
      " 2.3e-15 3.1e-15 6.4e-15]\n",
      "   Removing 8 vector(s).\n"
     ]
    },
    {
     "data": {
      "application/vnd.jupyter.widget-view+json": {
       "model_id": "d0e75ba745964258b6997900ac95bcd4",
       "version_major": 2,
       "version_minor": 0
      },
      "text/plain": [
       "WebGuiWidget(layout=Layout(height='50vh', width='100%'), value={'gui_settings': {}, 'ngsolve_version': '6.2.24…"
      ]
     },
     "metadata": {},
     "output_type": "display_data"
    },
    {
     "name": "stdout",
     "output_type": "stream",
     "text": [
      "   QR found abs(diag(R)):\n",
      "   [3.7e+01 3.0e+01 4.0e+01 1.3e+01 5.0e+00 9.1e-01 1.1e-01 1.9e-01 7.1e-02\n",
      " 1.3e-01 1.6e-02 1.7e-02 9.7e-03 1.0e-02 5.8e-03 4.8e-03 1.0e-02 5.1e-03\n",
      " 4.3e-03 6.7e-03 6.7e-03 3.2e-03 1.8e-03 4.2e-03 4.6e-03 3.5e-03 3.8e-03\n",
      " 5.4e-03 1.7e-03 4.2e-03 2.7e-03 3.3e-03 1.7e-03 2.0e-03 3.1e-03 2.1e-03\n",
      " 1.3e-03 1.2e-03 1.5e-03 1.4e-03 1.1e-03 5.5e-04 1.1e-03 1.0e-03 5.6e-04\n",
      " 3.9e-04 1.2e-03 6.5e-04 1.0e-04 7.6e-14 1.2e-13 3.7e-15 4.4e-15 3.2e-15\n",
      " 3.7e-15 8.0e-14 2.8e-14 3.8e-16 4.5e-14 4.4e-13 1.7e-13 1.7e-12 1.1e-11\n",
      " 1.6e-12 3.4e-10 8.4e-10 9.6e-11 2.1e-09 7.6e-10 2.5e-09 8.1e-10 3.7e-10\n",
      " 2.1e-10 8.5e-10 9.4e-10 4.5e-10 5.4e-10 3.9e-10 3.4e-10 3.5e-10 3.1e-10\n",
      " 5.2e-10 4.8e-10 2.2e-10 2.9e-10 3.0e-10 2.2e-10 2.5e-10 3.1e-10 2.2e-10\n",
      " 1.4e-10 2.0e-10 1.8e-10 1.3e-10 1.2e-10 2.5e-10]\n",
      "   Removing 16 vector(s).\n",
      "   QR found abs(diag(R)):\n",
      "   [7.5e-01 1.3e-04 5.0e-05 4.5e-05 3.8e-05 1.7e-05 2.9e-06 1.8e-05 1.3e-06\n",
      " 9.1e-07 3.4e-07 2.1e-07 2.8e-07 2.2e-07 1.5e-07 1.3e-07 8.1e-08 9.6e-08\n",
      " 4.7e-08 1.3e-07 1.0e-07 9.7e-08 4.4e-08 1.1e-07 1.2e-07 6.8e-08 5.1e-08\n",
      " 5.2e-08 9.3e-08 1.7e-08 3.2e-08 7.7e-08 2.7e-08 3.8e-08 3.8e-08 5.1e-08\n",
      " 2.4e-08 3.2e-08 1.1e-08 1.6e-07 1.7e-08 2.6e-08 2.6e-08 1.8e-08 5.9e-08\n",
      " 2.0e-08 1.7e-08 9.4e-09 1.4e-09 1.9e-18 1.2e-19 4.5e-20 1.4e-20 2.9e-20\n",
      " 9.9e-21 1.9e-20 1.8e-20 3.0e-21 2.7e-20 1.8e-20 1.5e-20 9.7e-23 8.1e-21\n",
      " 1.3e-23 3.8e-20 2.8e-20 1.6e-22 4.4e-20 2.4e-20 3.5e-20 9.6e-22 5.4e-22\n",
      " 1.1e-21 1.4e-20 5.2e-21 6.8e-21 4.7e-21 3.0e-21 5.5e-21 1.0e-20 4.6e-21\n",
      " 3.5e-21 3.4e-21 3.0e-21 5.2e-21 4.1e-21 1.5e-21 2.9e-21 3.2e-21 3.7e-21\n",
      " 3.8e-21 3.6e-21 1.8e-21 1.3e-21 1.3e-21 2.8e-21]\n",
      "   Removing 47 vector(s).\n"
     ]
    },
    {
     "data": {
      "application/vnd.jupyter.widget-view+json": {
       "model_id": "3a664fff6c924c98832cecaa121bdd01",
       "version_major": 2,
       "version_minor": 0
      },
      "text/plain": [
       "WebGuiWidget(layout=Layout(height='50vh', width='100%'), value={'gui_settings': {}, 'ngsolve_version': '6.2.24…"
      ]
     },
     "metadata": {},
     "output_type": "display_data"
    },
    {
     "data": {
      "application/vnd.jupyter.widget-view+json": {
       "model_id": "77ef6e039f834fbf8964d40fb5569d77",
       "version_major": 2,
       "version_minor": 0
      },
      "text/plain": [
       "WebGuiWidget(layout=Layout(height='50vh', width='100%'), value={'gui_settings': {}, 'ngsolve_version': '6.2.24…"
      ]
     },
     "metadata": {},
     "output_type": "display_data"
    },
    {
     "data": {
      "application/vnd.jupyter.widget-view+json": {
       "model_id": "8ecf3f09d743411c9aeca2aa9b428e17",
       "version_major": 2,
       "version_minor": 0
      },
      "text/plain": [
       "WebGuiWidget(layout=Layout(height='50vh', width='100%'), value={'gui_settings': {}, 'ngsolve_version': '6.2.24…"
      ]
     },
     "metadata": {},
     "output_type": "display_data"
    },
    {
     "data": {
      "application/vnd.jupyter.widget-view+json": {
       "model_id": "5dd73c2a87784612a8a12775690958a4",
       "version_major": 2,
       "version_minor": 0
      },
      "text/plain": [
       "WebGuiWidget(layout=Layout(height='50vh', width='100%'), value={'gui_settings': {}, 'ngsolve_version': '6.2.24…"
      ]
     },
     "metadata": {},
     "output_type": "display_data"
    },
    {
     "data": {
      "application/vnd.jupyter.widget-view+json": {
       "model_id": "17590b34e8d1411b836449214dc9ff58",
       "version_major": 2,
       "version_minor": 0
      },
      "text/plain": [
       "WebGuiWidget(layout=Layout(height='50vh', width='100%'), value={'gui_settings': {}, 'ngsolve_version': '6.2.24…"
      ]
     },
     "metadata": {},
     "output_type": "display_data"
    },
    {
     "data": {
      "application/vnd.jupyter.widget-view+json": {
       "model_id": "b365ae35d74d49678b3b56f0b95b5b14",
       "version_major": 2,
       "version_minor": 0
      },
      "text/plain": [
       "WebGuiWidget(layout=Layout(height='50vh', width='100%'), value={'gui_settings': {}, 'ngsolve_version': '6.2.24…"
      ]
     },
     "metadata": {},
     "output_type": "display_data"
    }
   ],
   "source": [
    "THETA = 0.95\n",
    "\n",
    "iteration = 0\n",
    "ndofs = 0\n",
    "center = REF_EV\n",
    "\n",
    "sol = GridFunction(fes, name=\"Landscape\", autoupdate=True)\n",
    "\n",
    "# Main loop\n",
    "while iteration < MAX_ITER and ndofs < MAX_NDOFS:\n",
    "    # Update\n",
    "    assemble(a, m, f)\n",
    "    ndofs = fes.ndof\n",
    "    iteration += 1\n",
    "    # Solve\n",
    "    sol.vec.data = a.mat.Inverse(fes.FreeDofs()) * f.vec\n",
    "    # --- Init  call FEAST ---\n",
    "    # Set clean eigenspace (required for adaptivity)\n",
    "    right = NGvecs(fes, NSPAN)\n",
    "    right.setrandom()\n",
    "    left = NGvecs(fes, NSPAN)\n",
    "    left.setrandom()\n",
    "    # Set spectral projector\n",
    "    projector = SpectralProjNG(\n",
    "        fes,\n",
    "        a.mat,\n",
    "        m.mat,\n",
    "        checks=CHECKS,\n",
    "        radius=RADIUS,\n",
    "        center=center,\n",
    "        npts=NPTS,\n",
    "        verbose=False,\n",
    "    )\n",
    "    # Call FEAST\n",
    "    evalues, right, history, left = projector.feast(right, Yl=left, **feast_parameters)\n",
    "    assert history[-1], \"FEAST did not converge\"\n",
    "    # --- End  call  FEAST ---\n",
    "    # Estimate\n",
    "    etas = []\n",
    "    for i in range(right.m):\n",
    "        eta, _ = error_estimator_ev(right.gridfun(i=i), evalues[i])\n",
    "        etas.append(eta)\n",
    "    etas = np.stack(etas, axis=0)\n",
    "    eta = np.max(etas, axis=0)\n",
    "    # Mark\n",
    "    max_eta = max(eta)\n",
    "    mesh.ngmesh.Elements2D().NumPy()[\"refine\"] = eta > THETA * max_eta\n",
    "    # Refine\n",
    "    mesh.Refine()\n",
    "    Draw(mesh)\n",
    "    # Clean up\n",
    "    del right, left, projector, history\n",
    "    gc.collect()"
   ]
  },
  {
   "cell_type": "markdown",
   "id": "65d5c6ee-8169-4120-a045-9f783ae2b840",
   "metadata": {},
   "source": [
    "### Uniform"
   ]
  },
  {
   "cell_type": "code",
   "execution_count": 12,
   "id": "4d24fedc-f6af-430b-a634-c050f0bfd51f",
   "metadata": {},
   "outputs": [],
   "source": [
    "mesh = reset_mesh()\n",
    "fes = H1(mesh, order=ORDER, complex=IS_COMPLEX, dirichlet=\"boundary\", autoupdate=True)\n",
    "\n",
    "u, v = fes.TnT()\n",
    "\n",
    "a = BilinearForm(fes)\n",
    "a += grad(u) * grad(v) * dx\n",
    "\n",
    "m = BilinearForm(fes)\n",
    "m += u * v * dx\n",
    "\n",
    "f = LinearForm(fes)\n",
    "f += 1.0 * v * dx\n",
    "\n",
    "assemble(a, m, f)"
   ]
  },
  {
   "cell_type": "code",
   "execution_count": 13,
   "id": "9288d492-c7e9-4db3-a97e-29dc55e74da6",
   "metadata": {},
   "outputs": [
    {
     "data": {
      "application/vnd.jupyter.widget-view+json": {
       "model_id": "345c08e8c7124f7388f93c0cd662c27c",
       "version_major": 2,
       "version_minor": 0
      },
      "text/plain": [
       "WebGuiWidget(layout=Layout(height='50vh', width='100%'), value={'gui_settings': {}, 'ngsolve_version': '6.2.24…"
      ]
     },
     "metadata": {},
     "output_type": "display_data"
    },
    {
     "data": {
      "application/vnd.jupyter.widget-view+json": {
       "model_id": "1000657c613941439f99edc2e4bb70c4",
       "version_major": 2,
       "version_minor": 0
      },
      "text/plain": [
       "WebGuiWidget(layout=Layout(height='50vh', width='100%'), value={'gui_settings': {}, 'ngsolve_version': '6.2.24…"
      ]
     },
     "metadata": {},
     "output_type": "display_data"
    },
    {
     "data": {
      "application/vnd.jupyter.widget-view+json": {
       "model_id": "6b91c0ccc84745afa1f3db61caa8057d",
       "version_major": 2,
       "version_minor": 0
      },
      "text/plain": [
       "WebGuiWidget(layout=Layout(height='50vh', width='100%'), value={'gui_settings': {}, 'ngsolve_version': '6.2.24…"
      ]
     },
     "metadata": {},
     "output_type": "display_data"
    },
    {
     "data": {
      "application/vnd.jupyter.widget-view+json": {
       "model_id": "5903247649c04b2789176df225bf2f40",
       "version_major": 2,
       "version_minor": 0
      },
      "text/plain": [
       "WebGuiWidget(layout=Layout(height='50vh', width='100%'), value={'gui_settings': {}, 'ngsolve_version': '6.2.24…"
      ]
     },
     "metadata": {},
     "output_type": "display_data"
    },
    {
     "data": {
      "application/vnd.jupyter.widget-view+json": {
       "model_id": "a40f14f5aabd452595c1c07ca668f52d",
       "version_major": 2,
       "version_minor": 0
      },
      "text/plain": [
       "WebGuiWidget(layout=Layout(height='50vh', width='100%'), value={'gui_settings': {}, 'ngsolve_version': '6.2.24…"
      ]
     },
     "metadata": {},
     "output_type": "display_data"
    },
    {
     "data": {
      "application/vnd.jupyter.widget-view+json": {
       "model_id": "a5d0270b2cdd4c10b5a8eb76cb86163c",
       "version_major": 2,
       "version_minor": 0
      },
      "text/plain": [
       "WebGuiWidget(layout=Layout(height='50vh', width='100%'), value={'gui_settings': {}, 'ngsolve_version': '6.2.24…"
      ]
     },
     "metadata": {},
     "output_type": "display_data"
    },
    {
     "data": {
      "application/vnd.jupyter.widget-view+json": {
       "model_id": "8d7f635ef3c3400f883cdaa4083de23e",
       "version_major": 2,
       "version_minor": 0
      },
      "text/plain": [
       "WebGuiWidget(layout=Layout(height='50vh', width='100%'), value={'gui_settings': {}, 'ngsolve_version': '6.2.24…"
      ]
     },
     "metadata": {},
     "output_type": "display_data"
    },
    {
     "data": {
      "application/vnd.jupyter.widget-view+json": {
       "model_id": "93e145db383e44a89b7718a66c065738",
       "version_major": 2,
       "version_minor": 0
      },
      "text/plain": [
       "WebGuiWidget(layout=Layout(height='50vh', width='100%'), value={'gui_settings': {}, 'ngsolve_version': '6.2.24…"
      ]
     },
     "metadata": {},
     "output_type": "display_data"
    }
   ],
   "source": [
    "iteration = 0\n",
    "ndofs = 0\n",
    "\n",
    "sol = GridFunction(fes, name=\"Landscape\", autoupdate=True)\n",
    "\n",
    "# Main loop\n",
    "while iteration < MAX_ITER and ndofs < MAX_NDOFS:\n",
    "    # Update\n",
    "    assemble(a, m, f)\n",
    "    ndofs = fes.ndof\n",
    "    iteration += 1\n",
    "    # Solve\n",
    "    sol.vec.data = a.mat.Inverse(fes.FreeDofs()) * f.vec\n",
    "    # Refine\n",
    "    mesh.Refine()\n",
    "    Draw(mesh)"
   ]
  }
 ],
 "metadata": {
  "kernelspec": {
   "display_name": "Python 3 (ipykernel)",
   "language": "python",
   "name": "python3"
  },
  "language_info": {
   "codemirror_mode": {
    "name": "ipython",
    "version": 3
   },
   "file_extension": ".py",
   "mimetype": "text/x-python",
   "name": "python",
   "nbconvert_exporter": "python",
   "pygments_lexer": "ipython3",
   "version": "3.12.3"
  }
 },
 "nbformat": 4,
 "nbformat_minor": 5
}
