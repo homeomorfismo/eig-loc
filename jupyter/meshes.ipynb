{
 "cells": [
  {
   "cell_type": "markdown",
   "id": "6ae1f5fa-50a1-4fe8-8e2c-de261fc2c73c",
   "metadata": {},
   "source": [
    "# Meshes"
   ]
  },
  {
   "cell_type": "code",
   "execution_count": 1,
   "id": "787bb209-dbaa-48e2-be9f-add5f622feb4",
   "metadata": {},
   "outputs": [],
   "source": [
    "%matplotlib inline\n",
    "\n",
    "import numpy as np\n",
    "import pandas as pd\n",
    "from ngsolve import *\n",
    "import matplotlib.pyplot as plt\n",
    "import sys\n",
    "import gc\n",
    "\n",
    "sys.path.insert(1, \"/Users/gpin/Repos/EVErrorEst/scripts\")\n",
    "\n",
    "from main_utils import *\n",
    "from adapt_lshape import *\n",
    "from error import *\n",
    "from ngsolve.webgui import Draw\n",
    "from IPython.display import display, HTML"
   ]
  },
  {
   "cell_type": "code",
   "execution_count": 2,
   "id": "2c5dc89c-a252-4ede-a038-f5d8e4ba8f52",
   "metadata": {},
   "outputs": [],
   "source": [
    "def reset_mesh():\n",
    "    return Mesh(make_l_shape().GenerateMesh(maxh=0.3))\n",
    "\n",
    "\n",
    "def error_estimator_landscape(gf):\n",
    "    \"\"\"\n",
    "    Compute the landscape error estimator.\n",
    "    \"\"\"\n",
    "    h = specialcf.mesh_size\n",
    "    n = specialcf.normal(gf.space.mesh.dim)\n",
    "    xs = [x, y, z][: gf.space.mesh.dim]\n",
    "\n",
    "    grad_gf = grad(gf)\n",
    "    div_grad_gf = sum((grad_gf[i].Diff(xs[i]) for i in range(gf.space.mesh.dim)))\n",
    "\n",
    "    integrand_1 = -div_grad_gf - 1.0\n",
    "    integrand_2 = (grad_gf - grad_gf.Other()) * n\n",
    "\n",
    "    eta_1 = Integrate(\n",
    "        h**2 * InnerProduct(integrand_1, integrand_1) * dx,\n",
    "        gf.space.mesh,\n",
    "        element_wise=True,\n",
    "    )\n",
    "    eta_2 = Integrate(\n",
    "        0.5 * h * InnerProduct(integrand_2, integrand_2) * dx(element_boundary=True),\n",
    "        gf.space.mesh,\n",
    "        element_wise=True,\n",
    "    )\n",
    "\n",
    "    eta = np.sqrt(eta_1.NumPy().real + eta_2.NumPy().real)\n",
    "    etas = {\n",
    "        \"eta_1\": eta_1.NumPy().real,\n",
    "        \"eta_2\": eta_2.NumPy().real,\n",
    "    }\n",
    "\n",
    "    return eta, etas\n",
    "\n",
    "\n",
    "def error_estimator_ev(gf, ev):\n",
    "    \"\"\"\n",
    "    Compute the landscape error estimator.\n",
    "    \"\"\"\n",
    "    h = specialcf.mesh_size\n",
    "    n = specialcf.normal(gf.space.mesh.dim)\n",
    "    xs = [x, y, z][: gf.space.mesh.dim]\n",
    "\n",
    "    grad_gf = grad(gf)\n",
    "    div_grad_gf = sum((grad_gf[i].Diff(xs[i]) for i in range(gf.space.mesh.dim)))\n",
    "\n",
    "    integrand_1 = -div_grad_gf - ev * gf\n",
    "    integrand_2 = (grad_gf - grad_gf.Other()) * n\n",
    "\n",
    "    eta_1 = Integrate(\n",
    "        h**2 * InnerProduct(integrand_1, integrand_1) * dx,\n",
    "        gf.space.mesh,\n",
    "        element_wise=True,\n",
    "    )\n",
    "    eta_2 = Integrate(\n",
    "        0.5 * h * InnerProduct(integrand_2, integrand_2) * dx(element_boundary=True),\n",
    "        gf.space.mesh,\n",
    "        element_wise=True,\n",
    "    )\n",
    "\n",
    "    eta = np.sqrt(eta_1.NumPy().real + eta_2.NumPy().real)\n",
    "    etas = {\n",
    "        \"eta_1\": eta_1.NumPy().real,\n",
    "        \"eta_2\": eta_2.NumPy().real,\n",
    "    }\n",
    "\n",
    "    return eta, etas"
   ]
  },
  {
   "cell_type": "markdown",
   "id": "9b1978e3-6909-4ab8-a8b2-81b3a599493a",
   "metadata": {},
   "source": [
    "## Mesh Comparison"
   ]
  },
  {
   "cell_type": "code",
   "execution_count": 8,
   "id": "9be7a35a-72bf-4d8c-a47e-d2775a7173b5",
   "metadata": {},
   "outputs": [],
   "source": [
    "# FES parameters\n",
    "ORDER = 1\n",
    "IS_COMPLEX = True\n",
    "\n",
    "# Adaptivity parameters\n",
    "MAX_ITER = 10\n",
    "MAX_NDOFS = 300_000\n",
    "# THETA = 0.95\n",
    "\n",
    "# FEAST parameters\n",
    "NSPAN = 6\n",
    "CHECKS = False\n",
    "RADIUS = 2.0"
   ]
  },
  {
   "cell_type": "markdown",
   "id": "e3261847-eb90-45c2-a560-0505e3533bfc",
   "metadata": {},
   "source": [
    "### Landscape refinement"
   ]
  },
  {
   "cell_type": "code",
   "execution_count": 9,
   "id": "961cd50f-318c-44d6-a20d-942b9f356eb9",
   "metadata": {},
   "outputs": [],
   "source": [
    "mesh = reset_mesh()\n",
    "fes = H1(mesh, order=ORDER, complex=IS_COMPLEX, dirichlet=\"boundary\", autoupdate=True)\n",
    "\n",
    "u, v = fes.TnT()\n",
    "\n",
    "a = BilinearForm(fes)\n",
    "a += grad(u) * grad(v) * dx\n",
    "\n",
    "m = BilinearForm(fes)\n",
    "m += u * v * dx\n",
    "\n",
    "f = LinearForm(fes)\n",
    "f += 1.0 * v * dx\n",
    "\n",
    "assemble(a, m, f)"
   ]
  },
  {
   "cell_type": "markdown",
   "id": "cc40d26c-4309-42b5-9cec-c949ef97e53d",
   "metadata": {},
   "source": [
    "#### High tolerance"
   ]
  },
  {
   "cell_type": "code",
   "execution_count": 10,
   "id": "2a372eba-43ad-47e8-8f96-349a775cc3fb",
   "metadata": {},
   "outputs": [
    {
     "data": {
      "application/vnd.jupyter.widget-view+json": {
       "model_id": "477ce6a10003411a9d9a58105586adea",
       "version_major": 2,
       "version_minor": 0
      },
      "text/plain": [
       "WebGuiWidget(layout=Layout(height='50vh', width='100%'), value={'gui_settings': {}, 'ngsolve_version': '6.2.24…"
      ]
     },
     "metadata": {},
     "output_type": "display_data"
    },
    {
     "data": {
      "application/vnd.jupyter.widget-view+json": {
       "model_id": "5ba3433157394f509f4669b4ef1901f6",
       "version_major": 2,
       "version_minor": 0
      },
      "text/plain": [
       "WebGuiWidget(layout=Layout(height='50vh', width='100%'), value={'gui_settings': {}, 'ngsolve_version': '6.2.24…"
      ]
     },
     "metadata": {},
     "output_type": "display_data"
    },
    {
     "data": {
      "application/vnd.jupyter.widget-view+json": {
       "model_id": "fa0feb37e9e940efa3541b8714cb62cf",
       "version_major": 2,
       "version_minor": 0
      },
      "text/plain": [
       "WebGuiWidget(layout=Layout(height='50vh', width='100%'), value={'gui_settings': {}, 'ngsolve_version': '6.2.24…"
      ]
     },
     "metadata": {},
     "output_type": "display_data"
    },
    {
     "data": {
      "application/vnd.jupyter.widget-view+json": {
       "model_id": "de1cd5f7c69b489896c96c879768a9dd",
       "version_major": 2,
       "version_minor": 0
      },
      "text/plain": [
       "WebGuiWidget(layout=Layout(height='50vh', width='100%'), value={'gui_settings': {}, 'ngsolve_version': '6.2.24…"
      ]
     },
     "metadata": {},
     "output_type": "display_data"
    },
    {
     "data": {
      "application/vnd.jupyter.widget-view+json": {
       "model_id": "63ea222394494e2280ab12a2b67cbeae",
       "version_major": 2,
       "version_minor": 0
      },
      "text/plain": [
       "WebGuiWidget(layout=Layout(height='50vh', width='100%'), value={'gui_settings': {}, 'ngsolve_version': '6.2.24…"
      ]
     },
     "metadata": {},
     "output_type": "display_data"
    },
    {
     "data": {
      "application/vnd.jupyter.widget-view+json": {
       "model_id": "298bdbf8a6ed438c8131cefd54787dc5",
       "version_major": 2,
       "version_minor": 0
      },
      "text/plain": [
       "WebGuiWidget(layout=Layout(height='50vh', width='100%'), value={'gui_settings': {}, 'ngsolve_version': '6.2.24…"
      ]
     },
     "metadata": {},
     "output_type": "display_data"
    },
    {
     "data": {
      "application/vnd.jupyter.widget-view+json": {
       "model_id": "f6d1e7d63d61456883999a659e083144",
       "version_major": 2,
       "version_minor": 0
      },
      "text/plain": [
       "WebGuiWidget(layout=Layout(height='50vh', width='100%'), value={'gui_settings': {}, 'ngsolve_version': '6.2.24…"
      ]
     },
     "metadata": {},
     "output_type": "display_data"
    },
    {
     "data": {
      "application/vnd.jupyter.widget-view+json": {
       "model_id": "9df4562b0a5e4530bb60090b3ae1fa32",
       "version_major": 2,
       "version_minor": 0
      },
      "text/plain": [
       "WebGuiWidget(layout=Layout(height='50vh', width='100%'), value={'gui_settings': {}, 'ngsolve_version': '6.2.24…"
      ]
     },
     "metadata": {},
     "output_type": "display_data"
    },
    {
     "data": {
      "application/vnd.jupyter.widget-view+json": {
       "model_id": "b7ae3eddc3fb4ed6b9483c53aca66305",
       "version_major": 2,
       "version_minor": 0
      },
      "text/plain": [
       "WebGuiWidget(layout=Layout(height='50vh', width='100%'), value={'gui_settings': {}, 'ngsolve_version': '6.2.24…"
      ]
     },
     "metadata": {},
     "output_type": "display_data"
    },
    {
     "data": {
      "application/vnd.jupyter.widget-view+json": {
       "model_id": "443d0d50372942e389d8bffc12bfbfdd",
       "version_major": 2,
       "version_minor": 0
      },
      "text/plain": [
       "WebGuiWidget(layout=Layout(height='50vh', width='100%'), value={'gui_settings': {}, 'ngsolve_version': '6.2.24…"
      ]
     },
     "metadata": {},
     "output_type": "display_data"
    },
    {
     "data": {
      "application/vnd.jupyter.widget-view+json": {
       "model_id": "883a3b97318d48d8946c1a4ea1bf98b9",
       "version_major": 2,
       "version_minor": 0
      },
      "text/plain": [
       "WebGuiWidget(layout=Layout(height='50vh', width='100%'), value={'gui_settings': {}, 'ngsolve_version': '6.2.24…"
      ]
     },
     "metadata": {},
     "output_type": "display_data"
    }
   ],
   "source": [
    "THETA = 0.95\n",
    "\n",
    "iteration = 0\n",
    "ndofs = 0\n",
    "sol = GridFunction(fes, name=\"Landscape\", autoupdate=True)\n",
    "\n",
    "# Main loop\n",
    "Draw(mesh)\n",
    "while iteration < MAX_ITER and ndofs < MAX_NDOFS:\n",
    "    # Update\n",
    "    assemble(a, f)\n",
    "    ndofs = fes.ndof\n",
    "    iteration += 1\n",
    "    # Solve\n",
    "    sol.vec.data = a.mat.Inverse(fes.FreeDofs()) * f.vec\n",
    "    # Estimate\n",
    "    eta, _ = error_estimator_landscape(sol)\n",
    "    # Mark\n",
    "    max_eta = max(eta)\n",
    "    mesh.ngmesh.Elements2D().NumPy()[\"refine\"] = eta > THETA * max_eta\n",
    "    # Refine\n",
    "    mesh.Refine()\n",
    "    Draw(mesh)"
   ]
  },
  {
   "cell_type": "markdown",
   "id": "5233eb9f-0cca-4fd3-81d4-68a1f604df80",
   "metadata": {},
   "source": [
    "#### Low tolerance"
   ]
  },
  {
   "cell_type": "code",
   "execution_count": 11,
   "id": "3d56c9ad-833e-40f9-9f8b-83d4b1f922d4",
   "metadata": {},
   "outputs": [],
   "source": [
    "mesh = reset_mesh()\n",
    "fes = H1(mesh, order=ORDER, complex=IS_COMPLEX, dirichlet=\"boundary\", autoupdate=True)\n",
    "\n",
    "u, v = fes.TnT()\n",
    "\n",
    "a = BilinearForm(fes)\n",
    "a += grad(u) * grad(v) * dx\n",
    "\n",
    "m = BilinearForm(fes)\n",
    "m += u * v * dx\n",
    "\n",
    "f = LinearForm(fes)\n",
    "f += 1.0 * v * dx\n",
    "\n",
    "assemble(a, m, f)"
   ]
  },
  {
   "cell_type": "code",
   "execution_count": 12,
   "id": "c57c2015-f93e-4164-8be3-18771a9e294d",
   "metadata": {},
   "outputs": [
    {
     "data": {
      "application/vnd.jupyter.widget-view+json": {
       "model_id": "2808b634b3d647018784f9fdd82576c3",
       "version_major": 2,
       "version_minor": 0
      },
      "text/plain": [
       "WebGuiWidget(layout=Layout(height='50vh', width='100%'), value={'gui_settings': {}, 'ngsolve_version': '6.2.24…"
      ]
     },
     "metadata": {},
     "output_type": "display_data"
    },
    {
     "data": {
      "application/vnd.jupyter.widget-view+json": {
       "model_id": "d38543f0e70e4d5babc4f7d1f5123459",
       "version_major": 2,
       "version_minor": 0
      },
      "text/plain": [
       "WebGuiWidget(layout=Layout(height='50vh', width='100%'), value={'gui_settings': {}, 'ngsolve_version': '6.2.24…"
      ]
     },
     "metadata": {},
     "output_type": "display_data"
    },
    {
     "data": {
      "application/vnd.jupyter.widget-view+json": {
       "model_id": "fb4fa2d1d1b34a9c92b6691fd548e900",
       "version_major": 2,
       "version_minor": 0
      },
      "text/plain": [
       "WebGuiWidget(layout=Layout(height='50vh', width='100%'), value={'gui_settings': {}, 'ngsolve_version': '6.2.24…"
      ]
     },
     "metadata": {},
     "output_type": "display_data"
    },
    {
     "data": {
      "application/vnd.jupyter.widget-view+json": {
       "model_id": "43e867df46f94a3193cbff7fcf217fb4",
       "version_major": 2,
       "version_minor": 0
      },
      "text/plain": [
       "WebGuiWidget(layout=Layout(height='50vh', width='100%'), value={'gui_settings': {}, 'ngsolve_version': '6.2.24…"
      ]
     },
     "metadata": {},
     "output_type": "display_data"
    },
    {
     "data": {
      "application/vnd.jupyter.widget-view+json": {
       "model_id": "35632404de7a4ab79c9ecad3954d9faf",
       "version_major": 2,
       "version_minor": 0
      },
      "text/plain": [
       "WebGuiWidget(layout=Layout(height='50vh', width='100%'), value={'gui_settings': {}, 'ngsolve_version': '6.2.24…"
      ]
     },
     "metadata": {},
     "output_type": "display_data"
    },
    {
     "data": {
      "application/vnd.jupyter.widget-view+json": {
       "model_id": "f5406de0db844553b14bce6f541ce8c8",
       "version_major": 2,
       "version_minor": 0
      },
      "text/plain": [
       "WebGuiWidget(layout=Layout(height='50vh', width='100%'), value={'gui_settings': {}, 'ngsolve_version': '6.2.24…"
      ]
     },
     "metadata": {},
     "output_type": "display_data"
    },
    {
     "data": {
      "application/vnd.jupyter.widget-view+json": {
       "model_id": "fdca6e2fa193496ab20e264df3c09d7e",
       "version_major": 2,
       "version_minor": 0
      },
      "text/plain": [
       "WebGuiWidget(layout=Layout(height='50vh', width='100%'), value={'gui_settings': {}, 'ngsolve_version': '6.2.24…"
      ]
     },
     "metadata": {},
     "output_type": "display_data"
    },
    {
     "data": {
      "application/vnd.jupyter.widget-view+json": {
       "model_id": "5fea2f59ea7640ea8f836e35bdc22b22",
       "version_major": 2,
       "version_minor": 0
      },
      "text/plain": [
       "WebGuiWidget(layout=Layout(height='50vh', width='100%'), value={'gui_settings': {}, 'ngsolve_version': '6.2.24…"
      ]
     },
     "metadata": {},
     "output_type": "display_data"
    },
    {
     "data": {
      "application/vnd.jupyter.widget-view+json": {
       "model_id": "f92fb6ab9d2a419e999ecf84dfbbfabd",
       "version_major": 2,
       "version_minor": 0
      },
      "text/plain": [
       "WebGuiWidget(layout=Layout(height='50vh', width='100%'), value={'gui_settings': {}, 'ngsolve_version': '6.2.24…"
      ]
     },
     "metadata": {},
     "output_type": "display_data"
    },
    {
     "data": {
      "application/vnd.jupyter.widget-view+json": {
       "model_id": "73e32236f57743a089315dfb8dcbeb7f",
       "version_major": 2,
       "version_minor": 0
      },
      "text/plain": [
       "WebGuiWidget(layout=Layout(height='50vh', width='100%'), value={'gui_settings': {}, 'ngsolve_version': '6.2.24…"
      ]
     },
     "metadata": {},
     "output_type": "display_data"
    },
    {
     "data": {
      "application/vnd.jupyter.widget-view+json": {
       "model_id": "0918f43e226b46b4b5790e52a24cd556",
       "version_major": 2,
       "version_minor": 0
      },
      "text/plain": [
       "WebGuiWidget(layout=Layout(height='50vh', width='100%'), value={'gui_settings': {}, 'ngsolve_version': '6.2.24…"
      ]
     },
     "metadata": {},
     "output_type": "display_data"
    }
   ],
   "source": [
    "THETA = 0.5\n",
    "\n",
    "iteration = 0\n",
    "ndofs = 0\n",
    "sol = GridFunction(fes, name=\"Landscape\", autoupdate=True)\n",
    "\n",
    "# Main loop\n",
    "Draw(mesh)\n",
    "while iteration < MAX_ITER and ndofs < MAX_NDOFS:\n",
    "    # Update\n",
    "    assemble(a, f)\n",
    "    ndofs = fes.ndof\n",
    "    iteration += 1\n",
    "    # Solve\n",
    "    sol.vec.data = a.mat.Inverse(fes.FreeDofs()) * f.vec\n",
    "    # Estimate\n",
    "    eta, _ = error_estimator_landscape(sol)\n",
    "    # Mark\n",
    "    max_eta = max(eta)\n",
    "    mesh.ngmesh.Elements2D().NumPy()[\"refine\"] = eta > THETA * max_eta\n",
    "    # Refine\n",
    "    mesh.Refine()\n",
    "    Draw(mesh)"
   ]
  },
  {
   "cell_type": "markdown",
   "id": "48a5407d-0dee-4f9c-a8d6-2c0c164eae0f",
   "metadata": {},
   "source": [
    "### Eigenvector-driven refinement"
   ]
  },
  {
   "cell_type": "markdown",
   "id": "7a91b3e1-78c8-44df-9f81-291186b8455e",
   "metadata": {},
   "source": [
    "#### Low tolerance"
   ]
  },
  {
   "cell_type": "code",
   "execution_count": 13,
   "id": "c60b4763-dccf-4012-a7c6-2bfb5d47245f",
   "metadata": {},
   "outputs": [],
   "source": [
    "REF_EV = 50 * np.pi**2\n",
    "\n",
    "feast_parameters = {\n",
    "    \"hermitian\": False,\n",
    "    \"stop_tol\": 1.0e-10,\n",
    "    \"cut_tol\": 1.0e-10,\n",
    "    \"eta_tol\": 1e-10,\n",
    "    \"nrestarts\": 5,\n",
    "    \"niterations\": 100,\n",
    "}\n",
    "\n",
    "mesh = reset_mesh()\n",
    "fes = H1(mesh, order=ORDER, complex=IS_COMPLEX, dirichlet=\"boundary\", autoupdate=True)\n",
    "\n",
    "u, v = fes.TnT()\n",
    "\n",
    "a = BilinearForm(fes)\n",
    "a += grad(u) * grad(v) * dx\n",
    "\n",
    "m = BilinearForm(fes)\n",
    "m += u * v * dx\n",
    "\n",
    "f = LinearForm(fes)\n",
    "f += 1.0 * v * dx\n",
    "\n",
    "assemble(a, m, f)"
   ]
  },
  {
   "cell_type": "code",
   "execution_count": 14,
   "id": "4d62aa0a-8ae8-478a-84c3-9ee0d0d0d62a",
   "metadata": {},
   "outputs": [
    {
     "name": "stdout",
     "output_type": "stream",
     "text": [
      "   QR found abs(diag(R)):\n",
      "   [7.7e+00 7.4e+00 5.0e+00 4.3e+00 3.0e+00 3.9e+00 3.6e+00 4.1e+00 1.8e+00\n",
      " 3.2e+00 3.9e+00 2.0e+00 2.0e+00 1.5e+00 2.6e+00 2.2e+00 2.0e+00 2.0e+00\n",
      " 8.3e-01 1.0e+00 1.4e+00 1.2e-21 1.3e-21 1.8e-21]\n",
      "   Removing 3 vector(s).\n",
      "   QR found abs(diag(R)):\n",
      "   [5.7e+00 5.7e+00 7.7e+00 4.6e+00 5.8e+00 5.2e+00 4.2e+00 3.6e+00 3.3e+00\n",
      " 3.6e+00 4.0e+00 2.3e+00 2.2e+00 2.0e+00 3.6e+00 2.3e+00 1.9e+00 2.2e+00\n",
      " 7.8e-01 1.3e+00 1.5e+00 1.2e-21 1.2e-21 1.6e-21]\n",
      "   Removing 3 vector(s).\n"
     ]
    },
    {
     "data": {
      "application/vnd.jupyter.widget-view+json": {
       "model_id": "d3d0338f7d094b3ba96e3098af6212ff",
       "version_major": 2,
       "version_minor": 0
      },
      "text/plain": [
       "WebGuiWidget(layout=Layout(height='50vh', width='100%'), value={'gui_settings': {}, 'ngsolve_version': '6.2.24…"
      ]
     },
     "metadata": {},
     "output_type": "display_data"
    },
    {
     "data": {
      "application/vnd.jupyter.widget-view+json": {
       "model_id": "c3a4d416d3544c839c246fa1f4e498dd",
       "version_major": 2,
       "version_minor": 0
      },
      "text/plain": [
       "WebGuiWidget(layout=Layout(height='50vh', width='100%'), value={'gui_settings': {}, 'ngsolve_version': '6.2.24…"
      ]
     },
     "metadata": {},
     "output_type": "display_data"
    },
    {
     "data": {
      "application/vnd.jupyter.widget-view+json": {
       "model_id": "1a665ce70344483ebefc32e96dec9afd",
       "version_major": 2,
       "version_minor": 0
      },
      "text/plain": [
       "WebGuiWidget(layout=Layout(height='50vh', width='100%'), value={'gui_settings': {}, 'ngsolve_version': '6.2.24…"
      ]
     },
     "metadata": {},
     "output_type": "display_data"
    },
    {
     "data": {
      "application/vnd.jupyter.widget-view+json": {
       "model_id": "1da2707c5e3d4cc987352f9355b0dffd",
       "version_major": 2,
       "version_minor": 0
      },
      "text/plain": [
       "WebGuiWidget(layout=Layout(height='50vh', width='100%'), value={'gui_settings': {}, 'ngsolve_version': '6.2.24…"
      ]
     },
     "metadata": {},
     "output_type": "display_data"
    },
    {
     "data": {
      "application/vnd.jupyter.widget-view+json": {
       "model_id": "bc9b5cca639044e5969df7d7e24756b4",
       "version_major": 2,
       "version_minor": 0
      },
      "text/plain": [
       "WebGuiWidget(layout=Layout(height='50vh', width='100%'), value={'gui_settings': {}, 'ngsolve_version': '6.2.24…"
      ]
     },
     "metadata": {},
     "output_type": "display_data"
    },
    {
     "data": {
      "application/vnd.jupyter.widget-view+json": {
       "model_id": "622dbd9eb7e34fce992593b3d481a0cb",
       "version_major": 2,
       "version_minor": 0
      },
      "text/plain": [
       "WebGuiWidget(layout=Layout(height='50vh', width='100%'), value={'gui_settings': {}, 'ngsolve_version': '6.2.24…"
      ]
     },
     "metadata": {},
     "output_type": "display_data"
    },
    {
     "data": {
      "application/vnd.jupyter.widget-view+json": {
       "model_id": "ad2cd19fc83448d99f59b5de8882f623",
       "version_major": 2,
       "version_minor": 0
      },
      "text/plain": [
       "WebGuiWidget(layout=Layout(height='50vh', width='100%'), value={'gui_settings': {}, 'ngsolve_version': '6.2.24…"
      ]
     },
     "metadata": {},
     "output_type": "display_data"
    },
    {
     "data": {
      "application/vnd.jupyter.widget-view+json": {
       "model_id": "a919dfcccae349c0baf7db566d59f42c",
       "version_major": 2,
       "version_minor": 0
      },
      "text/plain": [
       "WebGuiWidget(layout=Layout(height='50vh', width='100%'), value={'gui_settings': {}, 'ngsolve_version': '6.2.24…"
      ]
     },
     "metadata": {},
     "output_type": "display_data"
    },
    {
     "data": {
      "application/vnd.jupyter.widget-view+json": {
       "model_id": "ebfc48dea22c47c99b870e6d814ff940",
       "version_major": 2,
       "version_minor": 0
      },
      "text/plain": [
       "WebGuiWidget(layout=Layout(height='50vh', width='100%'), value={'gui_settings': {}, 'ngsolve_version': '6.2.24…"
      ]
     },
     "metadata": {},
     "output_type": "display_data"
    },
    {
     "data": {
      "application/vnd.jupyter.widget-view+json": {
       "model_id": "f4410969d5304f84bff3fb8683822d43",
       "version_major": 2,
       "version_minor": 0
      },
      "text/plain": [
       "WebGuiWidget(layout=Layout(height='50vh', width='100%'), value={'gui_settings': {}, 'ngsolve_version': '6.2.24…"
      ]
     },
     "metadata": {},
     "output_type": "display_data"
    }
   ],
   "source": [
    "THETA = 0.5\n",
    "\n",
    "iteration = 0\n",
    "ndofs = 0\n",
    "center = REF_EV\n",
    "\n",
    "sol = GridFunction(fes, name=\"Landscape\", autoupdate=True)\n",
    "\n",
    "# Main loop\n",
    "while iteration < MAX_ITER and ndofs < MAX_NDOFS:\n",
    "    # Update\n",
    "    assemble(a, m, f)\n",
    "    ndofs = fes.ndof\n",
    "    iteration += 1\n",
    "    # Solve\n",
    "    sol.vec.data = a.mat.Inverse(fes.FreeDofs()) * f.vec\n",
    "    # --- Init  call FEAST ---\n",
    "    # Set clean eigenspace (required for adaptivity)\n",
    "    right = NGvecs(fes, NSPAN)\n",
    "    right.setrandom()\n",
    "    left = NGvecs(fes, NSPAN)\n",
    "    left.setrandom()\n",
    "    # Set spectral projector\n",
    "    projector = SpectralProjNG(\n",
    "        fes,\n",
    "        a.mat,\n",
    "        m.mat,\n",
    "        checks=CHECKS,\n",
    "        radius=RADIUS,\n",
    "        center=center,\n",
    "        npts=NPTS,\n",
    "        verbose=False,\n",
    "    )\n",
    "    # Call FEAST\n",
    "    evalues, right, history, left = projector.feast(right, Yl=left, **feast_parameters)\n",
    "    assert history[-1], \"FEAST did not converge\"\n",
    "    # --- End  call  FEAST ---\n",
    "    # Estimate\n",
    "    etas = []\n",
    "    for i in range(right.m):\n",
    "        eta, _ = error_estimator_ev(right.gridfun(i=i), evalues[i])\n",
    "        etas.append(eta)\n",
    "    etas = np.stack(etas, axis=0)\n",
    "    eta = np.max(etas, axis=0)\n",
    "    # Mark\n",
    "    max_eta = max(eta)\n",
    "    mesh.ngmesh.Elements2D().NumPy()[\"refine\"] = eta > THETA * max_eta\n",
    "    # Refine\n",
    "    mesh.Refine()\n",
    "    Draw(mesh)\n",
    "    # Clean up\n",
    "    del right, left, projector, history\n",
    "    gc.collect()"
   ]
  },
  {
   "cell_type": "markdown",
   "id": "dde26817-b521-484a-b97b-d69244f160e1",
   "metadata": {},
   "source": [
    "#### High tolerance"
   ]
  },
  {
   "cell_type": "code",
   "execution_count": 15,
   "id": "5ed7f111-f325-4161-a2a2-aff798ed10b6",
   "metadata": {},
   "outputs": [],
   "source": [
    "REF_EV = 50 * np.pi**2\n",
    "\n",
    "feast_parameters = {\n",
    "    \"hermitian\": False,\n",
    "    \"stop_tol\": 1.0e-10,\n",
    "    \"cut_tol\": 1.0e-10,\n",
    "    \"eta_tol\": 1e-10,\n",
    "    \"nrestarts\": 5,\n",
    "    \"niterations\": 100,\n",
    "}\n",
    "\n",
    "mesh = reset_mesh()\n",
    "fes = H1(mesh, order=ORDER, complex=IS_COMPLEX, dirichlet=\"boundary\", autoupdate=True)\n",
    "\n",
    "u, v = fes.TnT()\n",
    "\n",
    "a = BilinearForm(fes)\n",
    "a += grad(u) * grad(v) * dx\n",
    "\n",
    "m = BilinearForm(fes)\n",
    "m += u * v * dx\n",
    "\n",
    "f = LinearForm(fes)\n",
    "f += 1.0 * v * dx\n",
    "\n",
    "assemble(a, m, f)"
   ]
  },
  {
   "cell_type": "code",
   "execution_count": 16,
   "id": "5361e629-1495-4a02-838d-7ea06d52ba2c",
   "metadata": {
    "scrolled": true
   },
   "outputs": [
    {
     "name": "stdout",
     "output_type": "stream",
     "text": [
      "   QR found abs(diag(R)):\n",
      "   [1.1e+01 8.7e+00 8.4e+00 6.6e+00 6.3e+00 2.8e+00 5.3e+00 4.2e+00 4.2e+00\n",
      " 4.7e+00 3.2e+00 2.9e+00 3.1e+00 2.9e+00 1.9e+00 3.0e+00 2.5e+00 1.4e+00\n",
      " 1.4e+00 1.2e+00 1.3e+00 2.1e-21 1.1e-21 6.2e-22]\n",
      "   Removing 3 vector(s).\n",
      "   QR found abs(diag(R)):\n",
      "   [4.0e+00 4.8e+00 4.3e+00 3.5e+00 3.6e+00 1.9e+00 3.1e+00 3.3e+00 3.0e+00\n",
      " 2.7e+00 2.6e+00 2.6e+00 2.4e+00 2.2e+00 2.3e+00 1.8e+00 1.6e+00 7.6e-01\n",
      " 1.7e+00 7.4e-01 1.4e+00 9.9e-22 8.7e-22 6.0e-22]\n",
      "   Removing 3 vector(s).\n"
     ]
    },
    {
     "data": {
      "application/vnd.jupyter.widget-view+json": {
       "model_id": "b81a5e96d657471fa4d0270399bf9d53",
       "version_major": 2,
       "version_minor": 0
      },
      "text/plain": [
       "WebGuiWidget(layout=Layout(height='50vh', width='100%'), value={'gui_settings': {}, 'ngsolve_version': '6.2.24…"
      ]
     },
     "metadata": {},
     "output_type": "display_data"
    },
    {
     "name": "stdout",
     "output_type": "stream",
     "text": [
      "   QR found abs(diag(R)):\n",
      "   [7.0e+01 3.0e+01 2.0e-02 3.3e-02 5.1e-02 8.9e-01 1.6e-01 3.5e-01 7.8e-02\n",
      " 3.0e-01 1.1e-01 6.1e-02 2.9e-01 1.5e-01 1.3e-01 1.6e-01 7.2e-02 3.1e-01\n",
      " 3.2e-01 2.7e-01 2.4e-01 2.2e-01 2.8e-01 2.3e-01 3.3e-01 2.4e-01 1.9e-01\n",
      " 7.7e-19 3.7e-19 3.8e-19 7.2e-20 6.9e-20 6.9e-20 6.3e-20 7.8e-20 7.8e-20\n",
      " 5.8e-20 2.7e-20 4.0e-20 4.3e-20 5.8e-20 3.6e-20 4.6e-20 3.6e-20 4.2e-20\n",
      " 4.6e-20 2.9e-20 1.2e-19]\n",
      "   Removing 21 vector(s).\n",
      "   QR found abs(diag(R)):\n",
      "   [1.6e+00 2.4e+00 9.4e-01 5.1e-01 1.6e+00 1.3e+01 5.0e+00 5.2e+00 1.7e+00\n",
      " 6.6e+00 3.5e+00 2.4e+00 6.9e+00 1.0e+01 1.7e+01 6.8e+00 3.3e+00 8.3e+00\n",
      " 7.1e+00 1.3e+01 1.1e+01 6.9e+00 1.2e+01 6.5e+00 7.4e+00 6.9e+00 3.0e+01\n",
      " 1.4e-18 8.6e-19 9.4e-19 5.2e-18 2.6e-18 2.8e-18 3.7e-18 2.3e-18 1.2e-18\n",
      " 2.2e-18 1.0e-18 5.5e-19 1.9e-18 1.3e-18 1.1e-18 2.3e-18 8.7e-19 2.3e-18\n",
      " 9.7e-19 2.0e-18 1.1e-18]\n",
      "   Removing 21 vector(s).\n"
     ]
    },
    {
     "data": {
      "application/vnd.jupyter.widget-view+json": {
       "model_id": "579b0e34650b447fb18953b9b44aee43",
       "version_major": 2,
       "version_minor": 0
      },
      "text/plain": [
       "WebGuiWidget(layout=Layout(height='50vh', width='100%'), value={'gui_settings': {}, 'ngsolve_version': '6.2.24…"
      ]
     },
     "metadata": {},
     "output_type": "display_data"
    },
    {
     "data": {
      "application/vnd.jupyter.widget-view+json": {
       "model_id": "d638a1b13eb1431689e3586dc2ea7483",
       "version_major": 2,
       "version_minor": 0
      },
      "text/plain": [
       "WebGuiWidget(layout=Layout(height='50vh', width='100%'), value={'gui_settings': {}, 'ngsolve_version': '6.2.24…"
      ]
     },
     "metadata": {},
     "output_type": "display_data"
    },
    {
     "name": "stdout",
     "output_type": "stream",
     "text": [
      "   QR found abs(diag(R)):\n",
      "   [1.5e-04 1.3e-04 5.4e-05 7.5e-05 2.5e-04 1.0e-06 3.6e-05 4.7e-06 9.8e-06\n",
      " 5.6e-06 1.2e-06 1.0e-06 1.4e-06 1.2e-06 9.6e-07 1.2e-06 1.2e-06 1.2e-06\n",
      " 2.2e-06 1.9e-06 2.2e-06 1.3e-06 1.5e-06 1.3e-06 2.0e-06 2.4e-06 1.4e-06\n",
      " 7.6e-07 3.7e-06 7.6e-06 1.0e-05 1.7e-05 9.6e-06 1.0e-05 2.0e-05 1.3e-04\n",
      " 2.2e-04 1.3e-04 1.9e-04 1.5e-04 1.4e-19 3.6e-19 2.0e-19 4.3e-19 7.0e-21\n",
      " 1.8e-19 5.1e-19 1.0e-19]\n",
      "   Removing 8 vector(s).\n",
      "   QR found abs(diag(R)):\n",
      "   [6.6e+05 8.4e+05 2.1e+06 2.5e+05 1.3e+01 2.2e+04 1.8e+03 8.1e+02 2.9e+03\n",
      " 1.9e+03 2.1e+03 2.9e+03 1.9e+03 2.2e+03 5.9e+03 1.5e+04 8.5e+03 2.3e+03\n",
      " 3.4e+03 2.3e+03 4.2e+03 1.3e+03 9.2e+03 4.8e+03 2.7e+03 2.8e+03 1.4e+03\n",
      " 9.2e+02 1.3e+03 7.0e+02 4.7e+02 3.9e+02 3.0e+02 1.8e+02 2.6e+02 2.7e+02\n",
      " 1.6e+02 2.3e+02 2.7e+02 8.2e+01 3.1e-12 1.1e-13 1.6e-12 8.2e-13 1.1e-14\n",
      " 9.9e-13 2.1e-12 1.0e-12]\n",
      "   Removing 8 vector(s).\n"
     ]
    },
    {
     "data": {
      "application/vnd.jupyter.widget-view+json": {
       "model_id": "bc9695699c0b4c5480afbc8badc2ca3c",
       "version_major": 2,
       "version_minor": 0
      },
      "text/plain": [
       "WebGuiWidget(layout=Layout(height='50vh', width='100%'), value={'gui_settings': {}, 'ngsolve_version': '6.2.24…"
      ]
     },
     "metadata": {},
     "output_type": "display_data"
    },
    {
     "name": "stdout",
     "output_type": "stream",
     "text": [
      "   QR found abs(diag(R)):\n",
      "   [1.3e+01 3.4e+01 4.2e+01 2.7e+01 1.8e+01 1.0e+00 7.2e-02 1.2e-01 2.5e-01\n",
      " 7.5e-02 4.6e-02 3.4e-02 8.1e-03 9.4e-03 1.7e-02 6.7e-03 5.7e-03 5.1e-03\n",
      " 4.6e-03 7.8e-03 4.3e-03 5.6e-03 3.5e-03 2.3e-03 5.1e-03 4.6e-03 3.1e-03\n",
      " 3.0e-03 2.0e-03 1.3e-03 3.1e-03 3.2e-03 2.0e-03 2.1e-03 1.4e-03 1.9e-03\n",
      " 1.4e-03 1.8e-03 1.3e-03 1.8e-03 2.0e-03 5.7e-04 2.4e-03 1.3e-03 1.6e-03\n",
      " 1.3e-03 7.0e-04 9.2e-04 2.8e-04 1.2e-13 3.6e-15 4.1e-15 1.7e-15 3.0e-15\n",
      " 2.9e-16 9.2e-17 7.5e-17 1.8e-17 9.7e-18 8.8e-18 2.1e-17 1.7e-16 1.8e-15\n",
      " 5.2e-13 1.3e-14 5.7e-14 4.0e-14 6.9e-14 4.6e-13 1.9e-12 5.2e-13 6.2e-13\n",
      " 7.6e-13 1.3e-12 1.3e-12 2.3e-12 1.2e-12 6.3e-13 1.1e-12 1.2e-12 4.7e-13\n",
      " 9.9e-13 1.9e-12 3.5e-13 2.4e-12 3.9e-12 7.3e-13 1.5e-12 2.1e-12 4.4e-13\n",
      " 1.7e-12 6.4e-13 5.6e-13 1.3e-12 3.4e-13 6.2e-13]\n",
      "   Removing 47 vector(s).\n",
      "   QR found abs(diag(R)):\n",
      "   [8.1e+00 8.2e-03 7.3e-03 4.4e-03 2.9e-03 3.1e-03 7.6e-04 3.5e-04 5.1e-04\n",
      " 1.8e-04 1.8e-04 3.7e-05 3.8e-05 9.7e-05 2.1e-05 4.0e-05 1.1e-05 2.6e-05\n",
      " 1.9e-05 1.8e-05 3.4e-05 1.6e-05 9.4e-06 1.0e-05 1.3e-05 8.1e-06 5.3e-06\n",
      " 4.2e-06 4.0e-06 3.4e-06 2.2e-05 8.2e-06 4.2e-06 1.0e-05 4.2e-06 3.5e-06\n",
      " 4.6e-06 9.6e-06 5.1e-06 5.2e-06 7.0e-06 2.3e-06 5.2e-06 3.0e-06 4.2e-06\n",
      " 2.8e-06 1.2e-06 4.9e-06 1.8e-06 3.5e-17 8.3e-18 1.1e-17 1.1e-17 9.2e-18\n",
      " 1.9e-18 2.5e-18 1.7e-19 1.9e-18 4.1e-18 1.2e-18 2.0e-18 2.4e-21 4.2e-18\n",
      " 1.0e-20 6.4e-18 1.8e-18 1.2e-18 1.5e-20 1.9e-18 5.0e-18 1.9e-19 4.9e-19\n",
      " 2.2e-18 1.8e-18 5.6e-19 4.0e-18 8.4e-19 5.7e-19 1.1e-18 1.1e-18 5.7e-19\n",
      " 9.0e-19 6.6e-19 6.5e-19 1.5e-18 7.7e-19 7.6e-19 5.4e-19 6.9e-19 4.2e-19\n",
      " 6.1e-19 3.4e-19 3.9e-19 2.0e-19 3.2e-19 1.6e-19]\n",
      "   Removing 47 vector(s).\n"
     ]
    },
    {
     "data": {
      "application/vnd.jupyter.widget-view+json": {
       "model_id": "57240b819b344662b133c396c8196687",
       "version_major": 2,
       "version_minor": 0
      },
      "text/plain": [
       "WebGuiWidget(layout=Layout(height='50vh', width='100%'), value={'gui_settings': {}, 'ngsolve_version': '6.2.24…"
      ]
     },
     "metadata": {},
     "output_type": "display_data"
    },
    {
     "data": {
      "application/vnd.jupyter.widget-view+json": {
       "model_id": "120f15fa6328463794a5a219dc476acb",
       "version_major": 2,
       "version_minor": 0
      },
      "text/plain": [
       "WebGuiWidget(layout=Layout(height='50vh', width='100%'), value={'gui_settings': {}, 'ngsolve_version': '6.2.24…"
      ]
     },
     "metadata": {},
     "output_type": "display_data"
    },
    {
     "data": {
      "application/vnd.jupyter.widget-view+json": {
       "model_id": "983dbf9fffa64938bba002623c9ebba8",
       "version_major": 2,
       "version_minor": 0
      },
      "text/plain": [
       "WebGuiWidget(layout=Layout(height='50vh', width='100%'), value={'gui_settings': {}, 'ngsolve_version': '6.2.24…"
      ]
     },
     "metadata": {},
     "output_type": "display_data"
    },
    {
     "data": {
      "application/vnd.jupyter.widget-view+json": {
       "model_id": "c6ea5d60ce73417b8485c118c5b50781",
       "version_major": 2,
       "version_minor": 0
      },
      "text/plain": [
       "WebGuiWidget(layout=Layout(height='50vh', width='100%'), value={'gui_settings': {}, 'ngsolve_version': '6.2.24…"
      ]
     },
     "metadata": {},
     "output_type": "display_data"
    },
    {
     "data": {
      "application/vnd.jupyter.widget-view+json": {
       "model_id": "502e6d390094478bb98477cb7e7af2ce",
       "version_major": 2,
       "version_minor": 0
      },
      "text/plain": [
       "WebGuiWidget(layout=Layout(height='50vh', width='100%'), value={'gui_settings': {}, 'ngsolve_version': '6.2.24…"
      ]
     },
     "metadata": {},
     "output_type": "display_data"
    },
    {
     "data": {
      "application/vnd.jupyter.widget-view+json": {
       "model_id": "0fc8b824ffa34d10951c5ddb6ae41a03",
       "version_major": 2,
       "version_minor": 0
      },
      "text/plain": [
       "WebGuiWidget(layout=Layout(height='50vh', width='100%'), value={'gui_settings': {}, 'ngsolve_version': '6.2.24…"
      ]
     },
     "metadata": {},
     "output_type": "display_data"
    }
   ],
   "source": [
    "THETA = 0.95\n",
    "\n",
    "iteration = 0\n",
    "ndofs = 0\n",
    "center = REF_EV\n",
    "\n",
    "sol = GridFunction(fes, name=\"Landscape\", autoupdate=True)\n",
    "\n",
    "# Main loop\n",
    "while iteration < MAX_ITER and ndofs < MAX_NDOFS:\n",
    "    # Update\n",
    "    assemble(a, m, f)\n",
    "    ndofs = fes.ndof\n",
    "    iteration += 1\n",
    "    # Solve\n",
    "    sol.vec.data = a.mat.Inverse(fes.FreeDofs()) * f.vec\n",
    "    # --- Init  call FEAST ---\n",
    "    # Set clean eigenspace (required for adaptivity)\n",
    "    right = NGvecs(fes, NSPAN)\n",
    "    right.setrandom()\n",
    "    left = NGvecs(fes, NSPAN)\n",
    "    left.setrandom()\n",
    "    # Set spectral projector\n",
    "    projector = SpectralProjNG(\n",
    "        fes,\n",
    "        a.mat,\n",
    "        m.mat,\n",
    "        checks=CHECKS,\n",
    "        radius=RADIUS,\n",
    "        center=center,\n",
    "        npts=NPTS,\n",
    "        verbose=False,\n",
    "    )\n",
    "    # Call FEAST\n",
    "    evalues, right, history, left = projector.feast(right, Yl=left, **feast_parameters)\n",
    "    assert history[-1], \"FEAST did not converge\"\n",
    "    # --- End  call  FEAST ---\n",
    "    # Estimate\n",
    "    etas = []\n",
    "    for i in range(right.m):\n",
    "        eta, _ = error_estimator_ev(right.gridfun(i=i), evalues[i])\n",
    "        etas.append(eta)\n",
    "    etas = np.stack(etas, axis=0)\n",
    "    eta = np.max(etas, axis=0)\n",
    "    # Mark\n",
    "    max_eta = max(eta)\n",
    "    mesh.ngmesh.Elements2D().NumPy()[\"refine\"] = eta > THETA * max_eta\n",
    "    # Refine\n",
    "    mesh.Refine()\n",
    "    Draw(mesh)\n",
    "    # Clean up\n",
    "    del right, left, projector, history\n",
    "    gc.collect()"
   ]
  },
  {
   "cell_type": "markdown",
   "id": "65d5c6ee-8169-4120-a045-9f783ae2b840",
   "metadata": {},
   "source": [
    "### Uniform"
   ]
  },
  {
   "cell_type": "code",
   "execution_count": 17,
   "id": "4d24fedc-f6af-430b-a634-c050f0bfd51f",
   "metadata": {},
   "outputs": [],
   "source": [
    "mesh = reset_mesh()\n",
    "fes = H1(mesh, order=ORDER, complex=IS_COMPLEX, dirichlet=\"boundary\", autoupdate=True)\n",
    "\n",
    "u, v = fes.TnT()\n",
    "\n",
    "a = BilinearForm(fes)\n",
    "a += grad(u) * grad(v) * dx\n",
    "\n",
    "m = BilinearForm(fes)\n",
    "m += u * v * dx\n",
    "\n",
    "f = LinearForm(fes)\n",
    "f += 1.0 * v * dx\n",
    "\n",
    "assemble(a, m, f)"
   ]
  },
  {
   "cell_type": "code",
   "execution_count": 18,
   "id": "9288d492-c7e9-4db3-a97e-29dc55e74da6",
   "metadata": {
    "scrolled": true
   },
   "outputs": [
    {
     "data": {
      "application/vnd.jupyter.widget-view+json": {
       "model_id": "3722775e34a04686beebaacb3bc94b08",
       "version_major": 2,
       "version_minor": 0
      },
      "text/plain": [
       "WebGuiWidget(layout=Layout(height='50vh', width='100%'), value={'gui_settings': {}, 'ngsolve_version': '6.2.24…"
      ]
     },
     "metadata": {},
     "output_type": "display_data"
    },
    {
     "data": {
      "application/vnd.jupyter.widget-view+json": {
       "model_id": "0d2e85cdc49844849bfffe4987b73af7",
       "version_major": 2,
       "version_minor": 0
      },
      "text/plain": [
       "WebGuiWidget(layout=Layout(height='50vh', width='100%'), value={'gui_settings': {}, 'ngsolve_version': '6.2.24…"
      ]
     },
     "metadata": {},
     "output_type": "display_data"
    },
    {
     "data": {
      "application/vnd.jupyter.widget-view+json": {
       "model_id": "0eec6676832d4b3dabc6fb47cb6429f6",
       "version_major": 2,
       "version_minor": 0
      },
      "text/plain": [
       "WebGuiWidget(layout=Layout(height='50vh', width='100%'), value={'gui_settings': {}, 'ngsolve_version': '6.2.24…"
      ]
     },
     "metadata": {},
     "output_type": "display_data"
    },
    {
     "data": {
      "application/vnd.jupyter.widget-view+json": {
       "model_id": "3c5f54f785f9494e9e641e513062639b",
       "version_major": 2,
       "version_minor": 0
      },
      "text/plain": [
       "WebGuiWidget(layout=Layout(height='50vh', width='100%'), value={'gui_settings': {}, 'ngsolve_version': '6.2.24…"
      ]
     },
     "metadata": {},
     "output_type": "display_data"
    },
    {
     "data": {
      "application/vnd.jupyter.widget-view+json": {
       "model_id": "4e09efc5d5524446b678423efe490c9b",
       "version_major": 2,
       "version_minor": 0
      },
      "text/plain": [
       "WebGuiWidget(layout=Layout(height='50vh', width='100%'), value={'gui_settings': {}, 'ngsolve_version': '6.2.24…"
      ]
     },
     "metadata": {},
     "output_type": "display_data"
    },
    {
     "data": {
      "application/vnd.jupyter.widget-view+json": {
       "model_id": "d7f8e49f30444e5eb18a59bf279ee845",
       "version_major": 2,
       "version_minor": 0
      },
      "text/plain": [
       "WebGuiWidget(layout=Layout(height='50vh', width='100%'), value={'gui_settings': {}, 'ngsolve_version': '6.2.24…"
      ]
     },
     "metadata": {},
     "output_type": "display_data"
    },
    {
     "data": {
      "application/vnd.jupyter.widget-view+json": {
       "model_id": "deb070e01b98401e8a8499994c48f304",
       "version_major": 2,
       "version_minor": 0
      },
      "text/plain": [
       "WebGuiWidget(layout=Layout(height='50vh', width='100%'), value={'gui_settings': {}, 'ngsolve_version': '6.2.24…"
      ]
     },
     "metadata": {},
     "output_type": "display_data"
    },
    {
     "data": {
      "application/vnd.jupyter.widget-view+json": {
       "model_id": "b2d3e561c9b544efa4f7a3eb00e075d3",
       "version_major": 2,
       "version_minor": 0
      },
      "text/plain": [
       "WebGuiWidget(layout=Layout(height='50vh', width='100%'), value={'gui_settings': {}, 'ngsolve_version': '6.2.24…"
      ]
     },
     "metadata": {},
     "output_type": "display_data"
    }
   ],
   "source": [
    "iteration = 0\n",
    "ndofs = 0\n",
    "\n",
    "sol = GridFunction(fes, name=\"Landscape\", autoupdate=True)\n",
    "\n",
    "# Main loop\n",
    "while iteration < MAX_ITER and ndofs < MAX_NDOFS:\n",
    "    # Update\n",
    "    assemble(a, m, f)\n",
    "    ndofs = fes.ndof\n",
    "    iteration += 1\n",
    "    # Solve\n",
    "    sol.vec.data = a.mat.Inverse(fes.FreeDofs()) * f.vec\n",
    "    # Refine\n",
    "    mesh.Refine()\n",
    "    Draw(mesh)"
   ]
  }
 ],
 "metadata": {
  "kernelspec": {
   "display_name": "Python 3 (ipykernel)",
   "language": "python",
   "name": "python3"
  },
  "language_info": {
   "codemirror_mode": {
    "name": "ipython",
    "version": 3
   },
   "file_extension": ".py",
   "mimetype": "text/x-python",
   "name": "python",
   "nbconvert_exporter": "python",
   "pygments_lexer": "ipython3",
   "version": "3.12.3"
  }
 },
 "nbformat": 4,
 "nbformat_minor": 5
}
